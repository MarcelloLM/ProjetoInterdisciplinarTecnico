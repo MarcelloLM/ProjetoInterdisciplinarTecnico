{
  "cells": [
    {
      "cell_type": "markdown",
      "metadata": {
        "id": "kVXKlM8sUBGg"
      },
      "source": [
        "# pip"
      ]
    },
    {
      "cell_type": "code",
      "execution_count": null,
      "metadata": {
        "colab": {
          "base_uri": "https://localhost:8080/"
        },
        "id": "v99f8OH6sKVX",
        "outputId": "6e5205be-ddcd-43a1-d0c9-1846ddb76893"
      },
      "outputs": [
        {
          "output_type": "stream",
          "name": "stdout",
          "text": [
            "Looking in indexes: https://pypi.org/simple, https://us-python.pkg.dev/colab-wheels/public/simple/\n",
            "Collecting Faker\n",
            "  Downloading Faker-15.3.1-py3-none-any.whl (1.6 MB)\n",
            "\u001b[K     |████████████████████████████████| 1.6 MB 7.1 MB/s \n",
            "\u001b[?25hRequirement already satisfied: typing-extensions>=3.10.0.1 in /usr/local/lib/python3.7/dist-packages (from Faker) (4.1.1)\n",
            "Requirement already satisfied: python-dateutil>=2.4 in /usr/local/lib/python3.7/dist-packages (from Faker) (2.8.2)\n",
            "Requirement already satisfied: six>=1.5 in /usr/local/lib/python3.7/dist-packages (from python-dateutil>=2.4->Faker) (1.15.0)\n",
            "Installing collected packages: Faker\n",
            "Successfully installed Faker-15.3.1\n"
          ]
        }
      ],
      "source": [
        "!pip install Faker"
      ]
    },
    {
      "cell_type": "markdown",
      "metadata": {
        "id": "jVOwV3OsRIQx"
      },
      "source": [
        "# Analise exploratória \n"
      ]
    },
    {
      "cell_type": "code",
      "execution_count": null,
      "metadata": {
        "id": "2jk9LvBr99Mq"
      },
      "outputs": [],
      "source": [
        "import numpy as np \n",
        "import pandas as pd \n",
        "import spacy \n",
        "from sklearn import preprocessing  \n",
        "import re\n",
        "import nltk\n",
        "from nltk.corpus import stopwords \n",
        "from faker import Faker\n",
        "import string\n",
        "from wordcloud import WordCloud\n",
        "from sklearn.preprocessing import LabelEncoder\n",
        "from nltk.tokenize import word_tokenize\n",
        "from sklearn.model_selection import train_test_split\n",
        "from sklearn.linear_model import LogisticRegression \n",
        "from sklearn.ensemble import RandomForestClassifier \n",
        "from sklearn.datasets import make_classification"
      ]
    },
    {
      "cell_type": "code",
      "execution_count": null,
      "metadata": {
        "colab": {
          "base_uri": "https://localhost:8080/",
          "height": 206
        },
        "id": "yerwEeyG-GyQ",
        "outputId": "faebe134-80d9-44fe-b502-5376baabaea7"
      },
      "outputs": [
        {
          "output_type": "execute_result",
          "data": {
            "text/plain": [
              "       Category                                             Resume\n",
              "0  Data Science  Skills * Programming Languages: Python (pandas...\n",
              "1  Data Science  Education Details \\r\\nMay 2013 to May 2017 B.E...\n",
              "2  Data Science  Areas of Interest Deep Learning, Control Syste...\n",
              "3  Data Science  Skills â¢ R â¢ Python â¢ SAP HANA â¢ Table...\n",
              "4  Data Science  Education Details \\r\\n MCA   YMCAUST,  Faridab..."
            ],
            "text/html": [
              "\n",
              "  <div id=\"df-ecd40ceb-c0c3-41b1-84b7-3127b3bcb9fd\">\n",
              "    <div class=\"colab-df-container\">\n",
              "      <div>\n",
              "<style scoped>\n",
              "    .dataframe tbody tr th:only-of-type {\n",
              "        vertical-align: middle;\n",
              "    }\n",
              "\n",
              "    .dataframe tbody tr th {\n",
              "        vertical-align: top;\n",
              "    }\n",
              "\n",
              "    .dataframe thead th {\n",
              "        text-align: right;\n",
              "    }\n",
              "</style>\n",
              "<table border=\"1\" class=\"dataframe\">\n",
              "  <thead>\n",
              "    <tr style=\"text-align: right;\">\n",
              "      <th></th>\n",
              "      <th>Category</th>\n",
              "      <th>Resume</th>\n",
              "    </tr>\n",
              "  </thead>\n",
              "  <tbody>\n",
              "    <tr>\n",
              "      <th>0</th>\n",
              "      <td>Data Science</td>\n",
              "      <td>Skills * Programming Languages: Python (pandas...</td>\n",
              "    </tr>\n",
              "    <tr>\n",
              "      <th>1</th>\n",
              "      <td>Data Science</td>\n",
              "      <td>Education Details \\r\\nMay 2013 to May 2017 B.E...</td>\n",
              "    </tr>\n",
              "    <tr>\n",
              "      <th>2</th>\n",
              "      <td>Data Science</td>\n",
              "      <td>Areas of Interest Deep Learning, Control Syste...</td>\n",
              "    </tr>\n",
              "    <tr>\n",
              "      <th>3</th>\n",
              "      <td>Data Science</td>\n",
              "      <td>Skills â¢ R â¢ Python â¢ SAP HANA â¢ Table...</td>\n",
              "    </tr>\n",
              "    <tr>\n",
              "      <th>4</th>\n",
              "      <td>Data Science</td>\n",
              "      <td>Education Details \\r\\n MCA   YMCAUST,  Faridab...</td>\n",
              "    </tr>\n",
              "  </tbody>\n",
              "</table>\n",
              "</div>\n",
              "      <button class=\"colab-df-convert\" onclick=\"convertToInteractive('df-ecd40ceb-c0c3-41b1-84b7-3127b3bcb9fd')\"\n",
              "              title=\"Convert this dataframe to an interactive table.\"\n",
              "              style=\"display:none;\">\n",
              "        \n",
              "  <svg xmlns=\"http://www.w3.org/2000/svg\" height=\"24px\"viewBox=\"0 0 24 24\"\n",
              "       width=\"24px\">\n",
              "    <path d=\"M0 0h24v24H0V0z\" fill=\"none\"/>\n",
              "    <path d=\"M18.56 5.44l.94 2.06.94-2.06 2.06-.94-2.06-.94-.94-2.06-.94 2.06-2.06.94zm-11 1L8.5 8.5l.94-2.06 2.06-.94-2.06-.94L8.5 2.5l-.94 2.06-2.06.94zm10 10l.94 2.06.94-2.06 2.06-.94-2.06-.94-.94-2.06-.94 2.06-2.06.94z\"/><path d=\"M17.41 7.96l-1.37-1.37c-.4-.4-.92-.59-1.43-.59-.52 0-1.04.2-1.43.59L10.3 9.45l-7.72 7.72c-.78.78-.78 2.05 0 2.83L4 21.41c.39.39.9.59 1.41.59.51 0 1.02-.2 1.41-.59l7.78-7.78 2.81-2.81c.8-.78.8-2.07 0-2.86zM5.41 20L4 18.59l7.72-7.72 1.47 1.35L5.41 20z\"/>\n",
              "  </svg>\n",
              "      </button>\n",
              "      \n",
              "  <style>\n",
              "    .colab-df-container {\n",
              "      display:flex;\n",
              "      flex-wrap:wrap;\n",
              "      gap: 12px;\n",
              "    }\n",
              "\n",
              "    .colab-df-convert {\n",
              "      background-color: #E8F0FE;\n",
              "      border: none;\n",
              "      border-radius: 50%;\n",
              "      cursor: pointer;\n",
              "      display: none;\n",
              "      fill: #1967D2;\n",
              "      height: 32px;\n",
              "      padding: 0 0 0 0;\n",
              "      width: 32px;\n",
              "    }\n",
              "\n",
              "    .colab-df-convert:hover {\n",
              "      background-color: #E2EBFA;\n",
              "      box-shadow: 0px 1px 2px rgba(60, 64, 67, 0.3), 0px 1px 3px 1px rgba(60, 64, 67, 0.15);\n",
              "      fill: #174EA6;\n",
              "    }\n",
              "\n",
              "    [theme=dark] .colab-df-convert {\n",
              "      background-color: #3B4455;\n",
              "      fill: #D2E3FC;\n",
              "    }\n",
              "\n",
              "    [theme=dark] .colab-df-convert:hover {\n",
              "      background-color: #434B5C;\n",
              "      box-shadow: 0px 1px 3px 1px rgba(0, 0, 0, 0.15);\n",
              "      filter: drop-shadow(0px 1px 2px rgba(0, 0, 0, 0.3));\n",
              "      fill: #FFFFFF;\n",
              "    }\n",
              "  </style>\n",
              "\n",
              "      <script>\n",
              "        const buttonEl =\n",
              "          document.querySelector('#df-ecd40ceb-c0c3-41b1-84b7-3127b3bcb9fd button.colab-df-convert');\n",
              "        buttonEl.style.display =\n",
              "          google.colab.kernel.accessAllowed ? 'block' : 'none';\n",
              "\n",
              "        async function convertToInteractive(key) {\n",
              "          const element = document.querySelector('#df-ecd40ceb-c0c3-41b1-84b7-3127b3bcb9fd');\n",
              "          const dataTable =\n",
              "            await google.colab.kernel.invokeFunction('convertToInteractive',\n",
              "                                                     [key], {});\n",
              "          if (!dataTable) return;\n",
              "\n",
              "          const docLinkHtml = 'Like what you see? Visit the ' +\n",
              "            '<a target=\"_blank\" href=https://colab.research.google.com/notebooks/data_table.ipynb>data table notebook</a>'\n",
              "            + ' to learn more about interactive tables.';\n",
              "          element.innerHTML = '';\n",
              "          dataTable['output_type'] = 'display_data';\n",
              "          await google.colab.output.renderOutput(dataTable, element);\n",
              "          const docLink = document.createElement('div');\n",
              "          docLink.innerHTML = docLinkHtml;\n",
              "          element.appendChild(docLink);\n",
              "        }\n",
              "      </script>\n",
              "    </div>\n",
              "  </div>\n",
              "  "
            ]
          },
          "metadata": {},
          "execution_count": 3
        }
      ],
      "source": [
        "data = pd.read_csv('UpdatedResumeDataSet.csv')\n",
        "data.head()"
      ]
    },
    {
      "cell_type": "code",
      "execution_count": null,
      "metadata": {
        "id": "ezQRIFx9-YYI",
        "colab": {
          "base_uri": "https://localhost:8080/"
        },
        "outputId": "c4ee6d3e-483a-4fd9-8743-7618c029835a"
      },
      "outputs": [
        {
          "output_type": "execute_result",
          "data": {
            "text/plain": [
              "Category\n",
              "Advocate                     20\n",
              "Arts                         36\n",
              "Automation Testing           26\n",
              "Blockchain                   40\n",
              "Business Analyst             28\n",
              "Civil Engineer               24\n",
              "Data Science                 40\n",
              "Database                     33\n",
              "DevOps Engineer              55\n",
              "DotNet Developer             28\n",
              "ETL Developer                40\n",
              "Electrical Engineering       30\n",
              "HR                           44\n",
              "Hadoop                       42\n",
              "Health and fitness           30\n",
              "Java Developer               84\n",
              "Mechanical Engineer          40\n",
              "Network Security Engineer    25\n",
              "Operations Manager           40\n",
              "PMO                          30\n",
              "Python Developer             48\n",
              "SAP Developer                24\n",
              "Sales                        40\n",
              "Testing                      70\n",
              "Web Designing                45\n",
              "dtype: int64"
            ]
          },
          "metadata": {},
          "execution_count": 4
        }
      ],
      "source": [
        "data.groupby(['Category']).size()"
      ]
    },
    {
      "cell_type": "code",
      "execution_count": null,
      "metadata": {
        "id": "fIFFIRFzLXn0",
        "colab": {
          "base_uri": "https://localhost:8080/"
        },
        "outputId": "b7bf00e8-1631-4cb1-8e7a-827379228bef"
      },
      "outputs": [
        {
          "output_type": "execute_result",
          "data": {
            "text/plain": [
              "962"
            ]
          },
          "metadata": {},
          "execution_count": 5
        }
      ],
      "source": [
        "len(data)"
      ]
    },
    {
      "cell_type": "markdown",
      "metadata": {
        "id": "mZcxFZMORdMx"
      },
      "source": [
        "# Tratamento dos dados"
      ]
    },
    {
      "cell_type": "markdown",
      "metadata": {
        "id": "hs1aAgRKRmt2"
      },
      "source": [
        "Limpar stop words"
      ]
    },
    {
      "cell_type": "code",
      "execution_count": null,
      "metadata": {
        "id": "427hOL_e-vEn",
        "colab": {
          "base_uri": "https://localhost:8080/"
        },
        "outputId": "7cb8a393-14dd-4318-9b73-f919689d6d5d"
      },
      "outputs": [
        {
          "output_type": "stream",
          "name": "stderr",
          "text": [
            "[nltk_data] Downloading package punkt to /root/nltk_data...\n",
            "[nltk_data]   Unzipping tokenizers/punkt.zip.\n",
            "[nltk_data] Downloading package stopwords to /root/nltk_data...\n",
            "[nltk_data]   Unzipping corpora/stopwords.zip.\n"
          ]
        }
      ],
      "source": [
        "nltk.download('punkt')\n",
        "nltk.download('stopwords')\n",
        "stop_words = set(stopwords.words('english')) \n",
        "\n",
        "def remove_mystopwords(sentence):\n",
        "    tokens = sentence.split(\" \")\n",
        "    word_tokens = word_tokenize(sentence)\n",
        "    tokens_filtered = [w for w in word_tokens if not w.lower() in stop_words and not w.isdigit()] \n",
        "    return (\" \").join(tokens_filtered)\n",
        "\n",
        "def etl(sentence):\n",
        "  sentence = sentence.lower()\n",
        "  sentence = re.sub('[^0-9a-z]+', ' ', sentence)\n",
        "  sentence = remove_mystopwords(sentence)\n",
        "  return sentence"
      ]
    },
    {
      "cell_type": "code",
      "execution_count": null,
      "metadata": {
        "id": "0PUjzSj1z3QG"
      },
      "outputs": [],
      "source": [
        "data[\"Resume_clean\"] = data[\"Resume\"].apply(etl)"
      ]
    },
    {
      "cell_type": "code",
      "source": [
        "data.head()"
      ],
      "metadata": {
        "colab": {
          "base_uri": "https://localhost:8080/",
          "height": 337
        },
        "id": "yOUe_B7MYjud",
        "outputId": "da24c164-d392-46ba-e686-f98ccadf7c38"
      },
      "execution_count": null,
      "outputs": [
        {
          "output_type": "execute_result",
          "data": {
            "text/plain": [
              "       Category                                             Resume  \\\n",
              "0  Data Science  Skills * Programming Languages: Python (pandas...   \n",
              "1  Data Science  Education Details \\r\\nMay 2013 to May 2017 B.E...   \n",
              "2  Data Science  Areas of Interest Deep Learning, Control Syste...   \n",
              "3  Data Science  Skills â¢ R â¢ Python â¢ SAP HANA â¢ Table...   \n",
              "4  Data Science  Education Details \\r\\n MCA   YMCAUST,  Faridab...   \n",
              "\n",
              "                                        Resume_clean  \\\n",
              "0  skills programming languages python pandas num...   \n",
              "1  education details may may b e uit rgpv data sc...   \n",
              "2  areas interest deep learning control system de...   \n",
              "3  skills r python sap hana tableau sap hana sql ...   \n",
              "4  education details mca ymcaust faridabad haryan...   \n",
              "\n",
              "                                           textToVec  categorical_label  \\\n",
              "0  [0.23912355, 0.024014262, 0.19490698, -0.14557...                  6   \n",
              "1  [0.48902506, 0.07057942, 0.066882715, -0.24402...                  6   \n",
              "2  [0.55039436, 0.09611249, 0.059416205, -0.24771...                  6   \n",
              "3  [0.2846841, -0.0037783415, 0.14132875, -0.2154...                  6   \n",
              "4  [0.73838824, 0.122646645, -0.06683265, -0.2824...                  6   \n",
              "\n",
              "             names  \n",
              "0    Joseph Harvey  \n",
              "1       Eric Clark  \n",
              "2  Harry Hernandez  \n",
              "3        Lee Black  \n",
              "4     Sheryl Brown  "
            ],
            "text/html": [
              "\n",
              "  <div id=\"df-172542f9-8bbb-42eb-a4f3-0242d8c73cab\">\n",
              "    <div class=\"colab-df-container\">\n",
              "      <div>\n",
              "<style scoped>\n",
              "    .dataframe tbody tr th:only-of-type {\n",
              "        vertical-align: middle;\n",
              "    }\n",
              "\n",
              "    .dataframe tbody tr th {\n",
              "        vertical-align: top;\n",
              "    }\n",
              "\n",
              "    .dataframe thead th {\n",
              "        text-align: right;\n",
              "    }\n",
              "</style>\n",
              "<table border=\"1\" class=\"dataframe\">\n",
              "  <thead>\n",
              "    <tr style=\"text-align: right;\">\n",
              "      <th></th>\n",
              "      <th>Category</th>\n",
              "      <th>Resume</th>\n",
              "      <th>Resume_clean</th>\n",
              "      <th>textToVec</th>\n",
              "      <th>categorical_label</th>\n",
              "      <th>names</th>\n",
              "    </tr>\n",
              "  </thead>\n",
              "  <tbody>\n",
              "    <tr>\n",
              "      <th>0</th>\n",
              "      <td>Data Science</td>\n",
              "      <td>Skills * Programming Languages: Python (pandas...</td>\n",
              "      <td>skills programming languages python pandas num...</td>\n",
              "      <td>[0.23912355, 0.024014262, 0.19490698, -0.14557...</td>\n",
              "      <td>6</td>\n",
              "      <td>Joseph Harvey</td>\n",
              "    </tr>\n",
              "    <tr>\n",
              "      <th>1</th>\n",
              "      <td>Data Science</td>\n",
              "      <td>Education Details \\r\\nMay 2013 to May 2017 B.E...</td>\n",
              "      <td>education details may may b e uit rgpv data sc...</td>\n",
              "      <td>[0.48902506, 0.07057942, 0.066882715, -0.24402...</td>\n",
              "      <td>6</td>\n",
              "      <td>Eric Clark</td>\n",
              "    </tr>\n",
              "    <tr>\n",
              "      <th>2</th>\n",
              "      <td>Data Science</td>\n",
              "      <td>Areas of Interest Deep Learning, Control Syste...</td>\n",
              "      <td>areas interest deep learning control system de...</td>\n",
              "      <td>[0.55039436, 0.09611249, 0.059416205, -0.24771...</td>\n",
              "      <td>6</td>\n",
              "      <td>Harry Hernandez</td>\n",
              "    </tr>\n",
              "    <tr>\n",
              "      <th>3</th>\n",
              "      <td>Data Science</td>\n",
              "      <td>Skills â¢ R â¢ Python â¢ SAP HANA â¢ Table...</td>\n",
              "      <td>skills r python sap hana tableau sap hana sql ...</td>\n",
              "      <td>[0.2846841, -0.0037783415, 0.14132875, -0.2154...</td>\n",
              "      <td>6</td>\n",
              "      <td>Lee Black</td>\n",
              "    </tr>\n",
              "    <tr>\n",
              "      <th>4</th>\n",
              "      <td>Data Science</td>\n",
              "      <td>Education Details \\r\\n MCA   YMCAUST,  Faridab...</td>\n",
              "      <td>education details mca ymcaust faridabad haryan...</td>\n",
              "      <td>[0.73838824, 0.122646645, -0.06683265, -0.2824...</td>\n",
              "      <td>6</td>\n",
              "      <td>Sheryl Brown</td>\n",
              "    </tr>\n",
              "  </tbody>\n",
              "</table>\n",
              "</div>\n",
              "      <button class=\"colab-df-convert\" onclick=\"convertToInteractive('df-172542f9-8bbb-42eb-a4f3-0242d8c73cab')\"\n",
              "              title=\"Convert this dataframe to an interactive table.\"\n",
              "              style=\"display:none;\">\n",
              "        \n",
              "  <svg xmlns=\"http://www.w3.org/2000/svg\" height=\"24px\"viewBox=\"0 0 24 24\"\n",
              "       width=\"24px\">\n",
              "    <path d=\"M0 0h24v24H0V0z\" fill=\"none\"/>\n",
              "    <path d=\"M18.56 5.44l.94 2.06.94-2.06 2.06-.94-2.06-.94-.94-2.06-.94 2.06-2.06.94zm-11 1L8.5 8.5l.94-2.06 2.06-.94-2.06-.94L8.5 2.5l-.94 2.06-2.06.94zm10 10l.94 2.06.94-2.06 2.06-.94-2.06-.94-.94-2.06-.94 2.06-2.06.94z\"/><path d=\"M17.41 7.96l-1.37-1.37c-.4-.4-.92-.59-1.43-.59-.52 0-1.04.2-1.43.59L10.3 9.45l-7.72 7.72c-.78.78-.78 2.05 0 2.83L4 21.41c.39.39.9.59 1.41.59.51 0 1.02-.2 1.41-.59l7.78-7.78 2.81-2.81c.8-.78.8-2.07 0-2.86zM5.41 20L4 18.59l7.72-7.72 1.47 1.35L5.41 20z\"/>\n",
              "  </svg>\n",
              "      </button>\n",
              "      \n",
              "  <style>\n",
              "    .colab-df-container {\n",
              "      display:flex;\n",
              "      flex-wrap:wrap;\n",
              "      gap: 12px;\n",
              "    }\n",
              "\n",
              "    .colab-df-convert {\n",
              "      background-color: #E8F0FE;\n",
              "      border: none;\n",
              "      border-radius: 50%;\n",
              "      cursor: pointer;\n",
              "      display: none;\n",
              "      fill: #1967D2;\n",
              "      height: 32px;\n",
              "      padding: 0 0 0 0;\n",
              "      width: 32px;\n",
              "    }\n",
              "\n",
              "    .colab-df-convert:hover {\n",
              "      background-color: #E2EBFA;\n",
              "      box-shadow: 0px 1px 2px rgba(60, 64, 67, 0.3), 0px 1px 3px 1px rgba(60, 64, 67, 0.15);\n",
              "      fill: #174EA6;\n",
              "    }\n",
              "\n",
              "    [theme=dark] .colab-df-convert {\n",
              "      background-color: #3B4455;\n",
              "      fill: #D2E3FC;\n",
              "    }\n",
              "\n",
              "    [theme=dark] .colab-df-convert:hover {\n",
              "      background-color: #434B5C;\n",
              "      box-shadow: 0px 1px 3px 1px rgba(0, 0, 0, 0.15);\n",
              "      filter: drop-shadow(0px 1px 2px rgba(0, 0, 0, 0.3));\n",
              "      fill: #FFFFFF;\n",
              "    }\n",
              "  </style>\n",
              "\n",
              "      <script>\n",
              "        const buttonEl =\n",
              "          document.querySelector('#df-172542f9-8bbb-42eb-a4f3-0242d8c73cab button.colab-df-convert');\n",
              "        buttonEl.style.display =\n",
              "          google.colab.kernel.accessAllowed ? 'block' : 'none';\n",
              "\n",
              "        async function convertToInteractive(key) {\n",
              "          const element = document.querySelector('#df-172542f9-8bbb-42eb-a4f3-0242d8c73cab');\n",
              "          const dataTable =\n",
              "            await google.colab.kernel.invokeFunction('convertToInteractive',\n",
              "                                                     [key], {});\n",
              "          if (!dataTable) return;\n",
              "\n",
              "          const docLinkHtml = 'Like what you see? Visit the ' +\n",
              "            '<a target=\"_blank\" href=https://colab.research.google.com/notebooks/data_table.ipynb>data table notebook</a>'\n",
              "            + ' to learn more about interactive tables.';\n",
              "          element.innerHTML = '';\n",
              "          dataTable['output_type'] = 'display_data';\n",
              "          await google.colab.output.renderOutput(dataTable, element);\n",
              "          const docLink = document.createElement('div');\n",
              "          docLink.innerHTML = docLinkHtml;\n",
              "          element.appendChild(docLink);\n",
              "        }\n",
              "      </script>\n",
              "    </div>\n",
              "  </div>\n",
              "  "
            ]
          },
          "metadata": {},
          "execution_count": 37
        }
      ]
    },
    {
      "cell_type": "markdown",
      "metadata": {
        "id": "7EnipvJzRq_W"
      },
      "source": [
        "De texto para vetor"
      ]
    },
    {
      "cell_type": "code",
      "execution_count": null,
      "metadata": {
        "id": "kmOEXPyK_BKz"
      },
      "outputs": [],
      "source": [
        "nlp = spacy.load(\"en_core_web_sm\")\n",
        "\n",
        "def textToVec(sentence):\n",
        "  model= nlp(sentence)\n",
        "  return model.vector"
      ]
    },
    {
      "cell_type": "code",
      "execution_count": null,
      "metadata": {
        "id": "8uuxx2km_Zoa"
      },
      "outputs": [],
      "source": [
        "data[\"textToVec\"] = data[\"Resume_clean\"].apply(textToVec)\n",
        "data[\"textToVec\"] = data[\"Resume\"].apply(textToVec)"
      ]
    },
    {
      "cell_type": "code",
      "execution_count": null,
      "metadata": {
        "id": "C7WrQJKlwdCP",
        "colab": {
          "base_uri": "https://localhost:8080/",
          "height": 337
        },
        "outputId": "e1d8ecc5-7025-41e4-8158-60495bead8b8"
      },
      "outputs": [
        {
          "output_type": "execute_result",
          "data": {
            "text/plain": [
              "       Category                                             Resume  \\\n",
              "0  Data Science  Skills * Programming Languages: Python (pandas...   \n",
              "1  Data Science  Education Details \\r\\nMay 2013 to May 2017 B.E...   \n",
              "2  Data Science  Areas of Interest Deep Learning, Control Syste...   \n",
              "3  Data Science  Skills â¢ R â¢ Python â¢ SAP HANA â¢ Table...   \n",
              "4  Data Science  Education Details \\r\\n MCA   YMCAUST,  Faridab...   \n",
              "\n",
              "                                        Resume_clean  \\\n",
              "0  skills programming languages python pandas num...   \n",
              "1  education details may may b e uit rgpv data sc...   \n",
              "2  areas interest deep learning control system de...   \n",
              "3  skills r python sap hana tableau sap hana sql ...   \n",
              "4  education details mca ymcaust faridabad haryan...   \n",
              "\n",
              "                                           textToVec  \n",
              "0  [0.23912355, 0.024014262, 0.19490698, -0.14557...  \n",
              "1  [0.48902506, 0.07057942, 0.066882715, -0.24402...  \n",
              "2  [0.55039436, 0.09611249, 0.059416205, -0.24771...  \n",
              "3  [0.2846841, -0.0037783415, 0.14132875, -0.2154...  \n",
              "4  [0.73838824, 0.122646645, -0.06683265, -0.2824...  "
            ],
            "text/html": [
              "\n",
              "  <div id=\"df-3a57a106-d5d1-4fc7-8a72-d054a5e17229\">\n",
              "    <div class=\"colab-df-container\">\n",
              "      <div>\n",
              "<style scoped>\n",
              "    .dataframe tbody tr th:only-of-type {\n",
              "        vertical-align: middle;\n",
              "    }\n",
              "\n",
              "    .dataframe tbody tr th {\n",
              "        vertical-align: top;\n",
              "    }\n",
              "\n",
              "    .dataframe thead th {\n",
              "        text-align: right;\n",
              "    }\n",
              "</style>\n",
              "<table border=\"1\" class=\"dataframe\">\n",
              "  <thead>\n",
              "    <tr style=\"text-align: right;\">\n",
              "      <th></th>\n",
              "      <th>Category</th>\n",
              "      <th>Resume</th>\n",
              "      <th>Resume_clean</th>\n",
              "      <th>textToVec</th>\n",
              "    </tr>\n",
              "  </thead>\n",
              "  <tbody>\n",
              "    <tr>\n",
              "      <th>0</th>\n",
              "      <td>Data Science</td>\n",
              "      <td>Skills * Programming Languages: Python (pandas...</td>\n",
              "      <td>skills programming languages python pandas num...</td>\n",
              "      <td>[0.23912355, 0.024014262, 0.19490698, -0.14557...</td>\n",
              "    </tr>\n",
              "    <tr>\n",
              "      <th>1</th>\n",
              "      <td>Data Science</td>\n",
              "      <td>Education Details \\r\\nMay 2013 to May 2017 B.E...</td>\n",
              "      <td>education details may may b e uit rgpv data sc...</td>\n",
              "      <td>[0.48902506, 0.07057942, 0.066882715, -0.24402...</td>\n",
              "    </tr>\n",
              "    <tr>\n",
              "      <th>2</th>\n",
              "      <td>Data Science</td>\n",
              "      <td>Areas of Interest Deep Learning, Control Syste...</td>\n",
              "      <td>areas interest deep learning control system de...</td>\n",
              "      <td>[0.55039436, 0.09611249, 0.059416205, -0.24771...</td>\n",
              "    </tr>\n",
              "    <tr>\n",
              "      <th>3</th>\n",
              "      <td>Data Science</td>\n",
              "      <td>Skills â¢ R â¢ Python â¢ SAP HANA â¢ Table...</td>\n",
              "      <td>skills r python sap hana tableau sap hana sql ...</td>\n",
              "      <td>[0.2846841, -0.0037783415, 0.14132875, -0.2154...</td>\n",
              "    </tr>\n",
              "    <tr>\n",
              "      <th>4</th>\n",
              "      <td>Data Science</td>\n",
              "      <td>Education Details \\r\\n MCA   YMCAUST,  Faridab...</td>\n",
              "      <td>education details mca ymcaust faridabad haryan...</td>\n",
              "      <td>[0.73838824, 0.122646645, -0.06683265, -0.2824...</td>\n",
              "    </tr>\n",
              "  </tbody>\n",
              "</table>\n",
              "</div>\n",
              "      <button class=\"colab-df-convert\" onclick=\"convertToInteractive('df-3a57a106-d5d1-4fc7-8a72-d054a5e17229')\"\n",
              "              title=\"Convert this dataframe to an interactive table.\"\n",
              "              style=\"display:none;\">\n",
              "        \n",
              "  <svg xmlns=\"http://www.w3.org/2000/svg\" height=\"24px\"viewBox=\"0 0 24 24\"\n",
              "       width=\"24px\">\n",
              "    <path d=\"M0 0h24v24H0V0z\" fill=\"none\"/>\n",
              "    <path d=\"M18.56 5.44l.94 2.06.94-2.06 2.06-.94-2.06-.94-.94-2.06-.94 2.06-2.06.94zm-11 1L8.5 8.5l.94-2.06 2.06-.94-2.06-.94L8.5 2.5l-.94 2.06-2.06.94zm10 10l.94 2.06.94-2.06 2.06-.94-2.06-.94-.94-2.06-.94 2.06-2.06.94z\"/><path d=\"M17.41 7.96l-1.37-1.37c-.4-.4-.92-.59-1.43-.59-.52 0-1.04.2-1.43.59L10.3 9.45l-7.72 7.72c-.78.78-.78 2.05 0 2.83L4 21.41c.39.39.9.59 1.41.59.51 0 1.02-.2 1.41-.59l7.78-7.78 2.81-2.81c.8-.78.8-2.07 0-2.86zM5.41 20L4 18.59l7.72-7.72 1.47 1.35L5.41 20z\"/>\n",
              "  </svg>\n",
              "      </button>\n",
              "      \n",
              "  <style>\n",
              "    .colab-df-container {\n",
              "      display:flex;\n",
              "      flex-wrap:wrap;\n",
              "      gap: 12px;\n",
              "    }\n",
              "\n",
              "    .colab-df-convert {\n",
              "      background-color: #E8F0FE;\n",
              "      border: none;\n",
              "      border-radius: 50%;\n",
              "      cursor: pointer;\n",
              "      display: none;\n",
              "      fill: #1967D2;\n",
              "      height: 32px;\n",
              "      padding: 0 0 0 0;\n",
              "      width: 32px;\n",
              "    }\n",
              "\n",
              "    .colab-df-convert:hover {\n",
              "      background-color: #E2EBFA;\n",
              "      box-shadow: 0px 1px 2px rgba(60, 64, 67, 0.3), 0px 1px 3px 1px rgba(60, 64, 67, 0.15);\n",
              "      fill: #174EA6;\n",
              "    }\n",
              "\n",
              "    [theme=dark] .colab-df-convert {\n",
              "      background-color: #3B4455;\n",
              "      fill: #D2E3FC;\n",
              "    }\n",
              "\n",
              "    [theme=dark] .colab-df-convert:hover {\n",
              "      background-color: #434B5C;\n",
              "      box-shadow: 0px 1px 3px 1px rgba(0, 0, 0, 0.15);\n",
              "      filter: drop-shadow(0px 1px 2px rgba(0, 0, 0, 0.3));\n",
              "      fill: #FFFFFF;\n",
              "    }\n",
              "  </style>\n",
              "\n",
              "      <script>\n",
              "        const buttonEl =\n",
              "          document.querySelector('#df-3a57a106-d5d1-4fc7-8a72-d054a5e17229 button.colab-df-convert');\n",
              "        buttonEl.style.display =\n",
              "          google.colab.kernel.accessAllowed ? 'block' : 'none';\n",
              "\n",
              "        async function convertToInteractive(key) {\n",
              "          const element = document.querySelector('#df-3a57a106-d5d1-4fc7-8a72-d054a5e17229');\n",
              "          const dataTable =\n",
              "            await google.colab.kernel.invokeFunction('convertToInteractive',\n",
              "                                                     [key], {});\n",
              "          if (!dataTable) return;\n",
              "\n",
              "          const docLinkHtml = 'Like what you see? Visit the ' +\n",
              "            '<a target=\"_blank\" href=https://colab.research.google.com/notebooks/data_table.ipynb>data table notebook</a>'\n",
              "            + ' to learn more about interactive tables.';\n",
              "          element.innerHTML = '';\n",
              "          dataTable['output_type'] = 'display_data';\n",
              "          await google.colab.output.renderOutput(dataTable, element);\n",
              "          const docLink = document.createElement('div');\n",
              "          docLink.innerHTML = docLinkHtml;\n",
              "          element.appendChild(docLink);\n",
              "        }\n",
              "      </script>\n",
              "    </div>\n",
              "  </div>\n",
              "  "
            ]
          },
          "metadata": {},
          "execution_count": 10
        }
      ],
      "source": [
        "data.head()"
      ]
    },
    {
      "cell_type": "code",
      "execution_count": null,
      "metadata": {
        "id": "v07_nKXaAqKl",
        "colab": {
          "base_uri": "https://localhost:8080/",
          "height": 641
        },
        "outputId": "053680ad-9c92-4aa3-96c0-efe8ff1b7684"
      },
      "outputs": [
        {
          "output_type": "execute_result",
          "data": {
            "text/plain": [
              "         Category                                             Resume  \\\n",
              "0    Data Science  Skills * Programming Languages: Python (pandas...   \n",
              "1    Data Science  Education Details \\r\\nMay 2013 to May 2017 B.E...   \n",
              "2    Data Science  Areas of Interest Deep Learning, Control Syste...   \n",
              "3    Data Science  Skills â¢ R â¢ Python â¢ SAP HANA â¢ Table...   \n",
              "4    Data Science  Education Details \\r\\n MCA   YMCAUST,  Faridab...   \n",
              "..            ...                                                ...   \n",
              "957       Testing  Computer Skills: â¢ Proficient in MS office (...   \n",
              "958       Testing  â Willingness to accept the challenges. â ...   \n",
              "959       Testing  PERSONAL SKILLS â¢ Quick learner, â¢ Eagerne...   \n",
              "960       Testing  COMPUTER SKILLS & SOFTWARE KNOWLEDGE MS-Power ...   \n",
              "961       Testing  Skill Set OS Windows XP/7/8/8.1/10 Database MY...   \n",
              "\n",
              "                                          Resume_clean  \\\n",
              "0    skills programming languages python pandas num...   \n",
              "1    education details may may b e uit rgpv data sc...   \n",
              "2    areas interest deep learning control system de...   \n",
              "3    skills r python sap hana tableau sap hana sql ...   \n",
              "4    education details mca ymcaust faridabad haryan...   \n",
              "..                                                 ...   \n",
              "957  computer skills proficient ms office word basi...   \n",
              "958  willingness accept challenges positive thinkin...   \n",
              "959  personal skills quick learner eagerness learn ...   \n",
              "960  computer skills software knowledge ms power po...   \n",
              "961  skill set os windows xp database mysql sql ser...   \n",
              "\n",
              "                                             textToVec  categorical_label  \n",
              "0    [0.23912355, 0.024014262, 0.19490698, -0.14557...                  6  \n",
              "1    [0.48902506, 0.07057942, 0.066882715, -0.24402...                  6  \n",
              "2    [0.55039436, 0.09611249, 0.059416205, -0.24771...                  6  \n",
              "3    [0.2846841, -0.0037783415, 0.14132875, -0.2154...                  6  \n",
              "4    [0.73838824, 0.122646645, -0.06683265, -0.2824...                  6  \n",
              "..                                                 ...                ...  \n",
              "957  [0.1975813, -0.094179, 0.28510758, -0.2140149,...                 23  \n",
              "958  [0.42632607, -0.0768489, 0.13183562, -0.243334...                 23  \n",
              "959  [0.4513332, -0.056805685, 0.15219933, -0.29201...                 23  \n",
              "960  [0.55251086, -0.07310319, -0.06944631, -0.3034...                 23  \n",
              "961  [0.37663984, -0.17819665, -0.16813542, -0.3571...                 23  \n",
              "\n",
              "[962 rows x 5 columns]"
            ],
            "text/html": [
              "\n",
              "  <div id=\"df-04ecf362-3c9e-4fbe-a084-5a4698cdb80e\">\n",
              "    <div class=\"colab-df-container\">\n",
              "      <div>\n",
              "<style scoped>\n",
              "    .dataframe tbody tr th:only-of-type {\n",
              "        vertical-align: middle;\n",
              "    }\n",
              "\n",
              "    .dataframe tbody tr th {\n",
              "        vertical-align: top;\n",
              "    }\n",
              "\n",
              "    .dataframe thead th {\n",
              "        text-align: right;\n",
              "    }\n",
              "</style>\n",
              "<table border=\"1\" class=\"dataframe\">\n",
              "  <thead>\n",
              "    <tr style=\"text-align: right;\">\n",
              "      <th></th>\n",
              "      <th>Category</th>\n",
              "      <th>Resume</th>\n",
              "      <th>Resume_clean</th>\n",
              "      <th>textToVec</th>\n",
              "      <th>categorical_label</th>\n",
              "    </tr>\n",
              "  </thead>\n",
              "  <tbody>\n",
              "    <tr>\n",
              "      <th>0</th>\n",
              "      <td>Data Science</td>\n",
              "      <td>Skills * Programming Languages: Python (pandas...</td>\n",
              "      <td>skills programming languages python pandas num...</td>\n",
              "      <td>[0.23912355, 0.024014262, 0.19490698, -0.14557...</td>\n",
              "      <td>6</td>\n",
              "    </tr>\n",
              "    <tr>\n",
              "      <th>1</th>\n",
              "      <td>Data Science</td>\n",
              "      <td>Education Details \\r\\nMay 2013 to May 2017 B.E...</td>\n",
              "      <td>education details may may b e uit rgpv data sc...</td>\n",
              "      <td>[0.48902506, 0.07057942, 0.066882715, -0.24402...</td>\n",
              "      <td>6</td>\n",
              "    </tr>\n",
              "    <tr>\n",
              "      <th>2</th>\n",
              "      <td>Data Science</td>\n",
              "      <td>Areas of Interest Deep Learning, Control Syste...</td>\n",
              "      <td>areas interest deep learning control system de...</td>\n",
              "      <td>[0.55039436, 0.09611249, 0.059416205, -0.24771...</td>\n",
              "      <td>6</td>\n",
              "    </tr>\n",
              "    <tr>\n",
              "      <th>3</th>\n",
              "      <td>Data Science</td>\n",
              "      <td>Skills â¢ R â¢ Python â¢ SAP HANA â¢ Table...</td>\n",
              "      <td>skills r python sap hana tableau sap hana sql ...</td>\n",
              "      <td>[0.2846841, -0.0037783415, 0.14132875, -0.2154...</td>\n",
              "      <td>6</td>\n",
              "    </tr>\n",
              "    <tr>\n",
              "      <th>4</th>\n",
              "      <td>Data Science</td>\n",
              "      <td>Education Details \\r\\n MCA   YMCAUST,  Faridab...</td>\n",
              "      <td>education details mca ymcaust faridabad haryan...</td>\n",
              "      <td>[0.73838824, 0.122646645, -0.06683265, -0.2824...</td>\n",
              "      <td>6</td>\n",
              "    </tr>\n",
              "    <tr>\n",
              "      <th>...</th>\n",
              "      <td>...</td>\n",
              "      <td>...</td>\n",
              "      <td>...</td>\n",
              "      <td>...</td>\n",
              "      <td>...</td>\n",
              "    </tr>\n",
              "    <tr>\n",
              "      <th>957</th>\n",
              "      <td>Testing</td>\n",
              "      <td>Computer Skills: â¢ Proficient in MS office (...</td>\n",
              "      <td>computer skills proficient ms office word basi...</td>\n",
              "      <td>[0.1975813, -0.094179, 0.28510758, -0.2140149,...</td>\n",
              "      <td>23</td>\n",
              "    </tr>\n",
              "    <tr>\n",
              "      <th>958</th>\n",
              "      <td>Testing</td>\n",
              "      <td>â Willingness to accept the challenges. â ...</td>\n",
              "      <td>willingness accept challenges positive thinkin...</td>\n",
              "      <td>[0.42632607, -0.0768489, 0.13183562, -0.243334...</td>\n",
              "      <td>23</td>\n",
              "    </tr>\n",
              "    <tr>\n",
              "      <th>959</th>\n",
              "      <td>Testing</td>\n",
              "      <td>PERSONAL SKILLS â¢ Quick learner, â¢ Eagerne...</td>\n",
              "      <td>personal skills quick learner eagerness learn ...</td>\n",
              "      <td>[0.4513332, -0.056805685, 0.15219933, -0.29201...</td>\n",
              "      <td>23</td>\n",
              "    </tr>\n",
              "    <tr>\n",
              "      <th>960</th>\n",
              "      <td>Testing</td>\n",
              "      <td>COMPUTER SKILLS &amp; SOFTWARE KNOWLEDGE MS-Power ...</td>\n",
              "      <td>computer skills software knowledge ms power po...</td>\n",
              "      <td>[0.55251086, -0.07310319, -0.06944631, -0.3034...</td>\n",
              "      <td>23</td>\n",
              "    </tr>\n",
              "    <tr>\n",
              "      <th>961</th>\n",
              "      <td>Testing</td>\n",
              "      <td>Skill Set OS Windows XP/7/8/8.1/10 Database MY...</td>\n",
              "      <td>skill set os windows xp database mysql sql ser...</td>\n",
              "      <td>[0.37663984, -0.17819665, -0.16813542, -0.3571...</td>\n",
              "      <td>23</td>\n",
              "    </tr>\n",
              "  </tbody>\n",
              "</table>\n",
              "<p>962 rows × 5 columns</p>\n",
              "</div>\n",
              "      <button class=\"colab-df-convert\" onclick=\"convertToInteractive('df-04ecf362-3c9e-4fbe-a084-5a4698cdb80e')\"\n",
              "              title=\"Convert this dataframe to an interactive table.\"\n",
              "              style=\"display:none;\">\n",
              "        \n",
              "  <svg xmlns=\"http://www.w3.org/2000/svg\" height=\"24px\"viewBox=\"0 0 24 24\"\n",
              "       width=\"24px\">\n",
              "    <path d=\"M0 0h24v24H0V0z\" fill=\"none\"/>\n",
              "    <path d=\"M18.56 5.44l.94 2.06.94-2.06 2.06-.94-2.06-.94-.94-2.06-.94 2.06-2.06.94zm-11 1L8.5 8.5l.94-2.06 2.06-.94-2.06-.94L8.5 2.5l-.94 2.06-2.06.94zm10 10l.94 2.06.94-2.06 2.06-.94-2.06-.94-.94-2.06-.94 2.06-2.06.94z\"/><path d=\"M17.41 7.96l-1.37-1.37c-.4-.4-.92-.59-1.43-.59-.52 0-1.04.2-1.43.59L10.3 9.45l-7.72 7.72c-.78.78-.78 2.05 0 2.83L4 21.41c.39.39.9.59 1.41.59.51 0 1.02-.2 1.41-.59l7.78-7.78 2.81-2.81c.8-.78.8-2.07 0-2.86zM5.41 20L4 18.59l7.72-7.72 1.47 1.35L5.41 20z\"/>\n",
              "  </svg>\n",
              "      </button>\n",
              "      \n",
              "  <style>\n",
              "    .colab-df-container {\n",
              "      display:flex;\n",
              "      flex-wrap:wrap;\n",
              "      gap: 12px;\n",
              "    }\n",
              "\n",
              "    .colab-df-convert {\n",
              "      background-color: #E8F0FE;\n",
              "      border: none;\n",
              "      border-radius: 50%;\n",
              "      cursor: pointer;\n",
              "      display: none;\n",
              "      fill: #1967D2;\n",
              "      height: 32px;\n",
              "      padding: 0 0 0 0;\n",
              "      width: 32px;\n",
              "    }\n",
              "\n",
              "    .colab-df-convert:hover {\n",
              "      background-color: #E2EBFA;\n",
              "      box-shadow: 0px 1px 2px rgba(60, 64, 67, 0.3), 0px 1px 3px 1px rgba(60, 64, 67, 0.15);\n",
              "      fill: #174EA6;\n",
              "    }\n",
              "\n",
              "    [theme=dark] .colab-df-convert {\n",
              "      background-color: #3B4455;\n",
              "      fill: #D2E3FC;\n",
              "    }\n",
              "\n",
              "    [theme=dark] .colab-df-convert:hover {\n",
              "      background-color: #434B5C;\n",
              "      box-shadow: 0px 1px 3px 1px rgba(0, 0, 0, 0.15);\n",
              "      filter: drop-shadow(0px 1px 2px rgba(0, 0, 0, 0.3));\n",
              "      fill: #FFFFFF;\n",
              "    }\n",
              "  </style>\n",
              "\n",
              "      <script>\n",
              "        const buttonEl =\n",
              "          document.querySelector('#df-04ecf362-3c9e-4fbe-a084-5a4698cdb80e button.colab-df-convert');\n",
              "        buttonEl.style.display =\n",
              "          google.colab.kernel.accessAllowed ? 'block' : 'none';\n",
              "\n",
              "        async function convertToInteractive(key) {\n",
              "          const element = document.querySelector('#df-04ecf362-3c9e-4fbe-a084-5a4698cdb80e');\n",
              "          const dataTable =\n",
              "            await google.colab.kernel.invokeFunction('convertToInteractive',\n",
              "                                                     [key], {});\n",
              "          if (!dataTable) return;\n",
              "\n",
              "          const docLinkHtml = 'Like what you see? Visit the ' +\n",
              "            '<a target=\"_blank\" href=https://colab.research.google.com/notebooks/data_table.ipynb>data table notebook</a>'\n",
              "            + ' to learn more about interactive tables.';\n",
              "          element.innerHTML = '';\n",
              "          dataTable['output_type'] = 'display_data';\n",
              "          await google.colab.output.renderOutput(dataTable, element);\n",
              "          const docLink = document.createElement('div');\n",
              "          docLink.innerHTML = docLinkHtml;\n",
              "          element.appendChild(docLink);\n",
              "        }\n",
              "      </script>\n",
              "    </div>\n",
              "  </div>\n",
              "  "
            ]
          },
          "metadata": {},
          "execution_count": 11
        }
      ],
      "source": [
        "le = preprocessing.LabelEncoder()\n",
        "le.fit(data.Category)\n",
        "data['categorical_label'] = le.transform(data.Category)\n",
        "data"
      ]
    },
    {
      "cell_type": "code",
      "execution_count": null,
      "metadata": {
        "id": "ds5F8vqXYuXU",
        "colab": {
          "base_uri": "https://localhost:8080/",
          "height": 833
        },
        "outputId": "3d9f12c6-4e85-4a48-ef8d-4daf08f865f3"
      },
      "outputs": [
        {
          "output_type": "execute_result",
          "data": {
            "text/plain": [
              "                      Category  categorical_label\n",
              "84                    Advocate                  0\n",
              "104                       Arts                  1\n",
              "455         Automation Testing                  2\n",
              "852                 Blockchain                  3\n",
              "403           Business Analyst                  4\n",
              "295             Civil Engineer                  5\n",
              "0                 Data Science                  6\n",
              "709                   Database                  7\n",
              "599            DevOps Engineer                  8\n",
              "824           DotNet Developer                  9\n",
              "784              ETL Developer                 10\n",
              "481     Electrical Engineering                 11\n",
              "40                          HR                 12\n",
              "742                     Hadoop                 13\n",
              "265         Health and fitness                 14\n",
              "319             Java Developer                 15\n",
              "185        Mechanical Engineer                 16\n",
              "654  Network Security Engineer                 17\n",
              "511         Operations Manager                 18\n",
              "679                        PMO                 19\n",
              "551           Python Developer                 20\n",
              "431              SAP Developer                 21\n",
              "225                      Sales                 22\n",
              "892                    Testing                 23\n",
              "140              Web Designing                 24"
            ],
            "text/html": [
              "\n",
              "  <div id=\"df-82064a60-9cd9-4a4b-9f43-f19515633611\">\n",
              "    <div class=\"colab-df-container\">\n",
              "      <div>\n",
              "<style scoped>\n",
              "    .dataframe tbody tr th:only-of-type {\n",
              "        vertical-align: middle;\n",
              "    }\n",
              "\n",
              "    .dataframe tbody tr th {\n",
              "        vertical-align: top;\n",
              "    }\n",
              "\n",
              "    .dataframe thead th {\n",
              "        text-align: right;\n",
              "    }\n",
              "</style>\n",
              "<table border=\"1\" class=\"dataframe\">\n",
              "  <thead>\n",
              "    <tr style=\"text-align: right;\">\n",
              "      <th></th>\n",
              "      <th>Category</th>\n",
              "      <th>categorical_label</th>\n",
              "    </tr>\n",
              "  </thead>\n",
              "  <tbody>\n",
              "    <tr>\n",
              "      <th>84</th>\n",
              "      <td>Advocate</td>\n",
              "      <td>0</td>\n",
              "    </tr>\n",
              "    <tr>\n",
              "      <th>104</th>\n",
              "      <td>Arts</td>\n",
              "      <td>1</td>\n",
              "    </tr>\n",
              "    <tr>\n",
              "      <th>455</th>\n",
              "      <td>Automation Testing</td>\n",
              "      <td>2</td>\n",
              "    </tr>\n",
              "    <tr>\n",
              "      <th>852</th>\n",
              "      <td>Blockchain</td>\n",
              "      <td>3</td>\n",
              "    </tr>\n",
              "    <tr>\n",
              "      <th>403</th>\n",
              "      <td>Business Analyst</td>\n",
              "      <td>4</td>\n",
              "    </tr>\n",
              "    <tr>\n",
              "      <th>295</th>\n",
              "      <td>Civil Engineer</td>\n",
              "      <td>5</td>\n",
              "    </tr>\n",
              "    <tr>\n",
              "      <th>0</th>\n",
              "      <td>Data Science</td>\n",
              "      <td>6</td>\n",
              "    </tr>\n",
              "    <tr>\n",
              "      <th>709</th>\n",
              "      <td>Database</td>\n",
              "      <td>7</td>\n",
              "    </tr>\n",
              "    <tr>\n",
              "      <th>599</th>\n",
              "      <td>DevOps Engineer</td>\n",
              "      <td>8</td>\n",
              "    </tr>\n",
              "    <tr>\n",
              "      <th>824</th>\n",
              "      <td>DotNet Developer</td>\n",
              "      <td>9</td>\n",
              "    </tr>\n",
              "    <tr>\n",
              "      <th>784</th>\n",
              "      <td>ETL Developer</td>\n",
              "      <td>10</td>\n",
              "    </tr>\n",
              "    <tr>\n",
              "      <th>481</th>\n",
              "      <td>Electrical Engineering</td>\n",
              "      <td>11</td>\n",
              "    </tr>\n",
              "    <tr>\n",
              "      <th>40</th>\n",
              "      <td>HR</td>\n",
              "      <td>12</td>\n",
              "    </tr>\n",
              "    <tr>\n",
              "      <th>742</th>\n",
              "      <td>Hadoop</td>\n",
              "      <td>13</td>\n",
              "    </tr>\n",
              "    <tr>\n",
              "      <th>265</th>\n",
              "      <td>Health and fitness</td>\n",
              "      <td>14</td>\n",
              "    </tr>\n",
              "    <tr>\n",
              "      <th>319</th>\n",
              "      <td>Java Developer</td>\n",
              "      <td>15</td>\n",
              "    </tr>\n",
              "    <tr>\n",
              "      <th>185</th>\n",
              "      <td>Mechanical Engineer</td>\n",
              "      <td>16</td>\n",
              "    </tr>\n",
              "    <tr>\n",
              "      <th>654</th>\n",
              "      <td>Network Security Engineer</td>\n",
              "      <td>17</td>\n",
              "    </tr>\n",
              "    <tr>\n",
              "      <th>511</th>\n",
              "      <td>Operations Manager</td>\n",
              "      <td>18</td>\n",
              "    </tr>\n",
              "    <tr>\n",
              "      <th>679</th>\n",
              "      <td>PMO</td>\n",
              "      <td>19</td>\n",
              "    </tr>\n",
              "    <tr>\n",
              "      <th>551</th>\n",
              "      <td>Python Developer</td>\n",
              "      <td>20</td>\n",
              "    </tr>\n",
              "    <tr>\n",
              "      <th>431</th>\n",
              "      <td>SAP Developer</td>\n",
              "      <td>21</td>\n",
              "    </tr>\n",
              "    <tr>\n",
              "      <th>225</th>\n",
              "      <td>Sales</td>\n",
              "      <td>22</td>\n",
              "    </tr>\n",
              "    <tr>\n",
              "      <th>892</th>\n",
              "      <td>Testing</td>\n",
              "      <td>23</td>\n",
              "    </tr>\n",
              "    <tr>\n",
              "      <th>140</th>\n",
              "      <td>Web Designing</td>\n",
              "      <td>24</td>\n",
              "    </tr>\n",
              "  </tbody>\n",
              "</table>\n",
              "</div>\n",
              "      <button class=\"colab-df-convert\" onclick=\"convertToInteractive('df-82064a60-9cd9-4a4b-9f43-f19515633611')\"\n",
              "              title=\"Convert this dataframe to an interactive table.\"\n",
              "              style=\"display:none;\">\n",
              "        \n",
              "  <svg xmlns=\"http://www.w3.org/2000/svg\" height=\"24px\"viewBox=\"0 0 24 24\"\n",
              "       width=\"24px\">\n",
              "    <path d=\"M0 0h24v24H0V0z\" fill=\"none\"/>\n",
              "    <path d=\"M18.56 5.44l.94 2.06.94-2.06 2.06-.94-2.06-.94-.94-2.06-.94 2.06-2.06.94zm-11 1L8.5 8.5l.94-2.06 2.06-.94-2.06-.94L8.5 2.5l-.94 2.06-2.06.94zm10 10l.94 2.06.94-2.06 2.06-.94-2.06-.94-.94-2.06-.94 2.06-2.06.94z\"/><path d=\"M17.41 7.96l-1.37-1.37c-.4-.4-.92-.59-1.43-.59-.52 0-1.04.2-1.43.59L10.3 9.45l-7.72 7.72c-.78.78-.78 2.05 0 2.83L4 21.41c.39.39.9.59 1.41.59.51 0 1.02-.2 1.41-.59l7.78-7.78 2.81-2.81c.8-.78.8-2.07 0-2.86zM5.41 20L4 18.59l7.72-7.72 1.47 1.35L5.41 20z\"/>\n",
              "  </svg>\n",
              "      </button>\n",
              "      \n",
              "  <style>\n",
              "    .colab-df-container {\n",
              "      display:flex;\n",
              "      flex-wrap:wrap;\n",
              "      gap: 12px;\n",
              "    }\n",
              "\n",
              "    .colab-df-convert {\n",
              "      background-color: #E8F0FE;\n",
              "      border: none;\n",
              "      border-radius: 50%;\n",
              "      cursor: pointer;\n",
              "      display: none;\n",
              "      fill: #1967D2;\n",
              "      height: 32px;\n",
              "      padding: 0 0 0 0;\n",
              "      width: 32px;\n",
              "    }\n",
              "\n",
              "    .colab-df-convert:hover {\n",
              "      background-color: #E2EBFA;\n",
              "      box-shadow: 0px 1px 2px rgba(60, 64, 67, 0.3), 0px 1px 3px 1px rgba(60, 64, 67, 0.15);\n",
              "      fill: #174EA6;\n",
              "    }\n",
              "\n",
              "    [theme=dark] .colab-df-convert {\n",
              "      background-color: #3B4455;\n",
              "      fill: #D2E3FC;\n",
              "    }\n",
              "\n",
              "    [theme=dark] .colab-df-convert:hover {\n",
              "      background-color: #434B5C;\n",
              "      box-shadow: 0px 1px 3px 1px rgba(0, 0, 0, 0.15);\n",
              "      filter: drop-shadow(0px 1px 2px rgba(0, 0, 0, 0.3));\n",
              "      fill: #FFFFFF;\n",
              "    }\n",
              "  </style>\n",
              "\n",
              "      <script>\n",
              "        const buttonEl =\n",
              "          document.querySelector('#df-82064a60-9cd9-4a4b-9f43-f19515633611 button.colab-df-convert');\n",
              "        buttonEl.style.display =\n",
              "          google.colab.kernel.accessAllowed ? 'block' : 'none';\n",
              "\n",
              "        async function convertToInteractive(key) {\n",
              "          const element = document.querySelector('#df-82064a60-9cd9-4a4b-9f43-f19515633611');\n",
              "          const dataTable =\n",
              "            await google.colab.kernel.invokeFunction('convertToInteractive',\n",
              "                                                     [key], {});\n",
              "          if (!dataTable) return;\n",
              "\n",
              "          const docLinkHtml = 'Like what you see? Visit the ' +\n",
              "            '<a target=\"_blank\" href=https://colab.research.google.com/notebooks/data_table.ipynb>data table notebook</a>'\n",
              "            + ' to learn more about interactive tables.';\n",
              "          element.innerHTML = '';\n",
              "          dataTable['output_type'] = 'display_data';\n",
              "          await google.colab.output.renderOutput(dataTable, element);\n",
              "          const docLink = document.createElement('div');\n",
              "          docLink.innerHTML = docLinkHtml;\n",
              "          element.appendChild(docLink);\n",
              "        }\n",
              "      </script>\n",
              "    </div>\n",
              "  </div>\n",
              "  "
            ]
          },
          "metadata": {},
          "execution_count": 12
        }
      ],
      "source": [
        "data[['Category', 'categorical_label']].drop_duplicates().sort_values(by='categorical_label')"
      ]
    },
    {
      "cell_type": "markdown",
      "metadata": {
        "id": "RR6gQvP8XHb-"
      },
      "source": [
        "# Nomes"
      ]
    },
    {
      "cell_type": "code",
      "execution_count": null,
      "metadata": {
        "id": "PseKljVsua00"
      },
      "outputs": [],
      "source": [
        "names = []\n",
        "fake = Faker()\n",
        "for _ in range(962):\n",
        "  names.append(fake.name())"
      ]
    },
    {
      "cell_type": "code",
      "execution_count": null,
      "metadata": {
        "id": "moYe-mUYCSug"
      },
      "outputs": [],
      "source": [
        "df = pd.DataFrame(names)"
      ]
    },
    {
      "cell_type": "code",
      "execution_count": null,
      "metadata": {
        "id": "EQnusUDDCg-4"
      },
      "outputs": [],
      "source": [
        "df['names'] = names"
      ]
    },
    {
      "cell_type": "code",
      "execution_count": null,
      "metadata": {
        "id": "yIcoFoYcI8RC"
      },
      "outputs": [],
      "source": [
        "extracted_col = df[\"names\"]"
      ]
    },
    {
      "cell_type": "code",
      "execution_count": null,
      "metadata": {
        "id": "vVac43jWKBMC"
      },
      "outputs": [],
      "source": [
        "data = data.join(extracted_col)"
      ]
    },
    {
      "cell_type": "code",
      "execution_count": null,
      "metadata": {
        "id": "o3b-nHNvKHfL",
        "colab": {
          "base_uri": "https://localhost:8080/",
          "height": 658
        },
        "outputId": "3766ff43-515f-477d-95a2-5a1ae8f1496d"
      },
      "outputs": [
        {
          "output_type": "execute_result",
          "data": {
            "text/plain": [
              "         Category                                             Resume  \\\n",
              "0    Data Science  Skills * Programming Languages: Python (pandas...   \n",
              "1    Data Science  Education Details \\r\\nMay 2013 to May 2017 B.E...   \n",
              "2    Data Science  Areas of Interest Deep Learning, Control Syste...   \n",
              "3    Data Science  Skills â¢ R â¢ Python â¢ SAP HANA â¢ Table...   \n",
              "4    Data Science  Education Details \\r\\n MCA   YMCAUST,  Faridab...   \n",
              "..            ...                                                ...   \n",
              "957       Testing  Computer Skills: â¢ Proficient in MS office (...   \n",
              "958       Testing  â Willingness to accept the challenges. â ...   \n",
              "959       Testing  PERSONAL SKILLS â¢ Quick learner, â¢ Eagerne...   \n",
              "960       Testing  COMPUTER SKILLS & SOFTWARE KNOWLEDGE MS-Power ...   \n",
              "961       Testing  Skill Set OS Windows XP/7/8/8.1/10 Database MY...   \n",
              "\n",
              "                                          Resume_clean  \\\n",
              "0    skills programming languages python pandas num...   \n",
              "1    education details may may b e uit rgpv data sc...   \n",
              "2    areas interest deep learning control system de...   \n",
              "3    skills r python sap hana tableau sap hana sql ...   \n",
              "4    education details mca ymcaust faridabad haryan...   \n",
              "..                                                 ...   \n",
              "957  computer skills proficient ms office word basi...   \n",
              "958  willingness accept challenges positive thinkin...   \n",
              "959  personal skills quick learner eagerness learn ...   \n",
              "960  computer skills software knowledge ms power po...   \n",
              "961  skill set os windows xp database mysql sql ser...   \n",
              "\n",
              "                                             textToVec  categorical_label  \\\n",
              "0    [0.23912355, 0.024014262, 0.19490698, -0.14557...                  6   \n",
              "1    [0.48902506, 0.07057942, 0.066882715, -0.24402...                  6   \n",
              "2    [0.55039436, 0.09611249, 0.059416205, -0.24771...                  6   \n",
              "3    [0.2846841, -0.0037783415, 0.14132875, -0.2154...                  6   \n",
              "4    [0.73838824, 0.122646645, -0.06683265, -0.2824...                  6   \n",
              "..                                                 ...                ...   \n",
              "957  [0.1975813, -0.094179, 0.28510758, -0.2140149,...                 23   \n",
              "958  [0.42632607, -0.0768489, 0.13183562, -0.243334...                 23   \n",
              "959  [0.4513332, -0.056805685, 0.15219933, -0.29201...                 23   \n",
              "960  [0.55251086, -0.07310319, -0.06944631, -0.3034...                 23   \n",
              "961  [0.37663984, -0.17819665, -0.16813542, -0.3571...                 23   \n",
              "\n",
              "                names  \n",
              "0       Joseph Harvey  \n",
              "1          Eric Clark  \n",
              "2     Harry Hernandez  \n",
              "3           Lee Black  \n",
              "4        Sheryl Brown  \n",
              "..                ...  \n",
              "957     Jerry English  \n",
              "958  Felicia Richards  \n",
              "959    Jeremy Salazar  \n",
              "960       Jared Keith  \n",
              "961  Veronica Hartman  \n",
              "\n",
              "[962 rows x 6 columns]"
            ],
            "text/html": [
              "\n",
              "  <div id=\"df-3f9f17a7-d00b-4d33-b853-1abedec520d3\">\n",
              "    <div class=\"colab-df-container\">\n",
              "      <div>\n",
              "<style scoped>\n",
              "    .dataframe tbody tr th:only-of-type {\n",
              "        vertical-align: middle;\n",
              "    }\n",
              "\n",
              "    .dataframe tbody tr th {\n",
              "        vertical-align: top;\n",
              "    }\n",
              "\n",
              "    .dataframe thead th {\n",
              "        text-align: right;\n",
              "    }\n",
              "</style>\n",
              "<table border=\"1\" class=\"dataframe\">\n",
              "  <thead>\n",
              "    <tr style=\"text-align: right;\">\n",
              "      <th></th>\n",
              "      <th>Category</th>\n",
              "      <th>Resume</th>\n",
              "      <th>Resume_clean</th>\n",
              "      <th>textToVec</th>\n",
              "      <th>categorical_label</th>\n",
              "      <th>names</th>\n",
              "    </tr>\n",
              "  </thead>\n",
              "  <tbody>\n",
              "    <tr>\n",
              "      <th>0</th>\n",
              "      <td>Data Science</td>\n",
              "      <td>Skills * Programming Languages: Python (pandas...</td>\n",
              "      <td>skills programming languages python pandas num...</td>\n",
              "      <td>[0.23912355, 0.024014262, 0.19490698, -0.14557...</td>\n",
              "      <td>6</td>\n",
              "      <td>Joseph Harvey</td>\n",
              "    </tr>\n",
              "    <tr>\n",
              "      <th>1</th>\n",
              "      <td>Data Science</td>\n",
              "      <td>Education Details \\r\\nMay 2013 to May 2017 B.E...</td>\n",
              "      <td>education details may may b e uit rgpv data sc...</td>\n",
              "      <td>[0.48902506, 0.07057942, 0.066882715, -0.24402...</td>\n",
              "      <td>6</td>\n",
              "      <td>Eric Clark</td>\n",
              "    </tr>\n",
              "    <tr>\n",
              "      <th>2</th>\n",
              "      <td>Data Science</td>\n",
              "      <td>Areas of Interest Deep Learning, Control Syste...</td>\n",
              "      <td>areas interest deep learning control system de...</td>\n",
              "      <td>[0.55039436, 0.09611249, 0.059416205, -0.24771...</td>\n",
              "      <td>6</td>\n",
              "      <td>Harry Hernandez</td>\n",
              "    </tr>\n",
              "    <tr>\n",
              "      <th>3</th>\n",
              "      <td>Data Science</td>\n",
              "      <td>Skills â¢ R â¢ Python â¢ SAP HANA â¢ Table...</td>\n",
              "      <td>skills r python sap hana tableau sap hana sql ...</td>\n",
              "      <td>[0.2846841, -0.0037783415, 0.14132875, -0.2154...</td>\n",
              "      <td>6</td>\n",
              "      <td>Lee Black</td>\n",
              "    </tr>\n",
              "    <tr>\n",
              "      <th>4</th>\n",
              "      <td>Data Science</td>\n",
              "      <td>Education Details \\r\\n MCA   YMCAUST,  Faridab...</td>\n",
              "      <td>education details mca ymcaust faridabad haryan...</td>\n",
              "      <td>[0.73838824, 0.122646645, -0.06683265, -0.2824...</td>\n",
              "      <td>6</td>\n",
              "      <td>Sheryl Brown</td>\n",
              "    </tr>\n",
              "    <tr>\n",
              "      <th>...</th>\n",
              "      <td>...</td>\n",
              "      <td>...</td>\n",
              "      <td>...</td>\n",
              "      <td>...</td>\n",
              "      <td>...</td>\n",
              "      <td>...</td>\n",
              "    </tr>\n",
              "    <tr>\n",
              "      <th>957</th>\n",
              "      <td>Testing</td>\n",
              "      <td>Computer Skills: â¢ Proficient in MS office (...</td>\n",
              "      <td>computer skills proficient ms office word basi...</td>\n",
              "      <td>[0.1975813, -0.094179, 0.28510758, -0.2140149,...</td>\n",
              "      <td>23</td>\n",
              "      <td>Jerry English</td>\n",
              "    </tr>\n",
              "    <tr>\n",
              "      <th>958</th>\n",
              "      <td>Testing</td>\n",
              "      <td>â Willingness to accept the challenges. â ...</td>\n",
              "      <td>willingness accept challenges positive thinkin...</td>\n",
              "      <td>[0.42632607, -0.0768489, 0.13183562, -0.243334...</td>\n",
              "      <td>23</td>\n",
              "      <td>Felicia Richards</td>\n",
              "    </tr>\n",
              "    <tr>\n",
              "      <th>959</th>\n",
              "      <td>Testing</td>\n",
              "      <td>PERSONAL SKILLS â¢ Quick learner, â¢ Eagerne...</td>\n",
              "      <td>personal skills quick learner eagerness learn ...</td>\n",
              "      <td>[0.4513332, -0.056805685, 0.15219933, -0.29201...</td>\n",
              "      <td>23</td>\n",
              "      <td>Jeremy Salazar</td>\n",
              "    </tr>\n",
              "    <tr>\n",
              "      <th>960</th>\n",
              "      <td>Testing</td>\n",
              "      <td>COMPUTER SKILLS &amp; SOFTWARE KNOWLEDGE MS-Power ...</td>\n",
              "      <td>computer skills software knowledge ms power po...</td>\n",
              "      <td>[0.55251086, -0.07310319, -0.06944631, -0.3034...</td>\n",
              "      <td>23</td>\n",
              "      <td>Jared Keith</td>\n",
              "    </tr>\n",
              "    <tr>\n",
              "      <th>961</th>\n",
              "      <td>Testing</td>\n",
              "      <td>Skill Set OS Windows XP/7/8/8.1/10 Database MY...</td>\n",
              "      <td>skill set os windows xp database mysql sql ser...</td>\n",
              "      <td>[0.37663984, -0.17819665, -0.16813542, -0.3571...</td>\n",
              "      <td>23</td>\n",
              "      <td>Veronica Hartman</td>\n",
              "    </tr>\n",
              "  </tbody>\n",
              "</table>\n",
              "<p>962 rows × 6 columns</p>\n",
              "</div>\n",
              "      <button class=\"colab-df-convert\" onclick=\"convertToInteractive('df-3f9f17a7-d00b-4d33-b853-1abedec520d3')\"\n",
              "              title=\"Convert this dataframe to an interactive table.\"\n",
              "              style=\"display:none;\">\n",
              "        \n",
              "  <svg xmlns=\"http://www.w3.org/2000/svg\" height=\"24px\"viewBox=\"0 0 24 24\"\n",
              "       width=\"24px\">\n",
              "    <path d=\"M0 0h24v24H0V0z\" fill=\"none\"/>\n",
              "    <path d=\"M18.56 5.44l.94 2.06.94-2.06 2.06-.94-2.06-.94-.94-2.06-.94 2.06-2.06.94zm-11 1L8.5 8.5l.94-2.06 2.06-.94-2.06-.94L8.5 2.5l-.94 2.06-2.06.94zm10 10l.94 2.06.94-2.06 2.06-.94-2.06-.94-.94-2.06-.94 2.06-2.06.94z\"/><path d=\"M17.41 7.96l-1.37-1.37c-.4-.4-.92-.59-1.43-.59-.52 0-1.04.2-1.43.59L10.3 9.45l-7.72 7.72c-.78.78-.78 2.05 0 2.83L4 21.41c.39.39.9.59 1.41.59.51 0 1.02-.2 1.41-.59l7.78-7.78 2.81-2.81c.8-.78.8-2.07 0-2.86zM5.41 20L4 18.59l7.72-7.72 1.47 1.35L5.41 20z\"/>\n",
              "  </svg>\n",
              "      </button>\n",
              "      \n",
              "  <style>\n",
              "    .colab-df-container {\n",
              "      display:flex;\n",
              "      flex-wrap:wrap;\n",
              "      gap: 12px;\n",
              "    }\n",
              "\n",
              "    .colab-df-convert {\n",
              "      background-color: #E8F0FE;\n",
              "      border: none;\n",
              "      border-radius: 50%;\n",
              "      cursor: pointer;\n",
              "      display: none;\n",
              "      fill: #1967D2;\n",
              "      height: 32px;\n",
              "      padding: 0 0 0 0;\n",
              "      width: 32px;\n",
              "    }\n",
              "\n",
              "    .colab-df-convert:hover {\n",
              "      background-color: #E2EBFA;\n",
              "      box-shadow: 0px 1px 2px rgba(60, 64, 67, 0.3), 0px 1px 3px 1px rgba(60, 64, 67, 0.15);\n",
              "      fill: #174EA6;\n",
              "    }\n",
              "\n",
              "    [theme=dark] .colab-df-convert {\n",
              "      background-color: #3B4455;\n",
              "      fill: #D2E3FC;\n",
              "    }\n",
              "\n",
              "    [theme=dark] .colab-df-convert:hover {\n",
              "      background-color: #434B5C;\n",
              "      box-shadow: 0px 1px 3px 1px rgba(0, 0, 0, 0.15);\n",
              "      filter: drop-shadow(0px 1px 2px rgba(0, 0, 0, 0.3));\n",
              "      fill: #FFFFFF;\n",
              "    }\n",
              "  </style>\n",
              "\n",
              "      <script>\n",
              "        const buttonEl =\n",
              "          document.querySelector('#df-3f9f17a7-d00b-4d33-b853-1abedec520d3 button.colab-df-convert');\n",
              "        buttonEl.style.display =\n",
              "          google.colab.kernel.accessAllowed ? 'block' : 'none';\n",
              "\n",
              "        async function convertToInteractive(key) {\n",
              "          const element = document.querySelector('#df-3f9f17a7-d00b-4d33-b853-1abedec520d3');\n",
              "          const dataTable =\n",
              "            await google.colab.kernel.invokeFunction('convertToInteractive',\n",
              "                                                     [key], {});\n",
              "          if (!dataTable) return;\n",
              "\n",
              "          const docLinkHtml = 'Like what you see? Visit the ' +\n",
              "            '<a target=\"_blank\" href=https://colab.research.google.com/notebooks/data_table.ipynb>data table notebook</a>'\n",
              "            + ' to learn more about interactive tables.';\n",
              "          element.innerHTML = '';\n",
              "          dataTable['output_type'] = 'display_data';\n",
              "          await google.colab.output.renderOutput(dataTable, element);\n",
              "          const docLink = document.createElement('div');\n",
              "          docLink.innerHTML = docLinkHtml;\n",
              "          element.appendChild(docLink);\n",
              "        }\n",
              "      </script>\n",
              "    </div>\n",
              "  </div>\n",
              "  "
            ]
          },
          "metadata": {},
          "execution_count": 18
        }
      ],
      "source": [
        "data"
      ]
    },
    {
      "cell_type": "code",
      "source": [
        "data.to_csv('Data.csv')"
      ],
      "metadata": {
        "id": "xHWhzt22zs1S"
      },
      "execution_count": null,
      "outputs": []
    },
    {
      "cell_type": "markdown",
      "metadata": {
        "id": "553KbxBtRzmf"
      },
      "source": [
        "# Modelagem: Classificação"
      ]
    },
    {
      "cell_type": "code",
      "execution_count": null,
      "metadata": {
        "id": "2RwUwjrHFS_8"
      },
      "outputs": [],
      "source": [
        "train = data.sample(frac = 0.8, replace=False, random_state = 25)\n",
        "test = data.drop(train.index)"
      ]
    },
    {
      "cell_type": "code",
      "execution_count": null,
      "metadata": {
        "id": "rfmlrMDRFiGJ"
      },
      "outputs": [],
      "source": [
        "X_train = np.array(train['textToVec'].tolist())\n",
        "y_train = np.array(train['categorical_label'].tolist())\n",
        "\n",
        "X_test = np.array(test['textToVec'].tolist())\n",
        "y_test = np.array(test['categorical_label'].tolist())"
      ]
    },
    {
      "cell_type": "code",
      "execution_count": null,
      "metadata": {
        "id": "O4ZzVi9XFkLr",
        "colab": {
          "base_uri": "https://localhost:8080/"
        },
        "outputId": "3365f16c-ee59-4d63-8cce-4daf9f846514"
      },
      "outputs": [
        {
          "output_type": "stream",
          "name": "stderr",
          "text": [
            "/usr/local/lib/python3.7/dist-packages/sklearn/linear_model/_logistic.py:818: ConvergenceWarning: lbfgs failed to converge (status=1):\n",
            "STOP: TOTAL NO. of ITERATIONS REACHED LIMIT.\n",
            "\n",
            "Increase the number of iterations (max_iter) or scale the data as shown in:\n",
            "    https://scikit-learn.org/stable/modules/preprocessing.html\n",
            "Please also refer to the documentation for alternative solver options:\n",
            "    https://scikit-learn.org/stable/modules/linear_model.html#logistic-regression\n",
            "  extra_warning_msg=_LOGISTIC_SOLVER_CONVERGENCE_MSG,\n"
          ]
        }
      ],
      "source": [
        "clf = LogisticRegression(random_state=0).fit(X_train, y_train)\n",
        "y_pred = clf.predict(X_test)"
      ]
    },
    {
      "cell_type": "code",
      "execution_count": null,
      "metadata": {
        "id": "1YnAz53sut-f"
      },
      "outputs": [],
      "source": [
        "clf2 = RandomForestClassifier(n_estimators=500, max_depth=2, random_state=0)"
      ]
    },
    {
      "cell_type": "code",
      "execution_count": null,
      "metadata": {
        "id": "dHhbuptduFgI",
        "colab": {
          "base_uri": "https://localhost:8080/"
        },
        "outputId": "e6a5e1f0-af7a-4319-e9cc-9cc2a857b115"
      },
      "outputs": [
        {
          "output_type": "execute_result",
          "data": {
            "text/plain": [
              "RandomForestClassifier(max_depth=2, n_estimators=500, random_state=0)"
            ]
          },
          "metadata": {},
          "execution_count": 24
        }
      ],
      "source": [
        "clf2.fit(X_train, y_train)"
      ]
    },
    {
      "cell_type": "markdown",
      "metadata": {
        "id": "dVMWt7n7SCRJ"
      },
      "source": [
        "# Avaliação do modelo "
      ]
    },
    {
      "cell_type": "code",
      "execution_count": null,
      "metadata": {
        "id": "hD1b46knrNqE",
        "colab": {
          "base_uri": "https://localhost:8080/"
        },
        "outputId": "e367b6d7-7439-42fd-ebfb-9aa62ef358b9"
      },
      "outputs": [
        {
          "output_type": "execute_result",
          "data": {
            "text/plain": [
              "0.7552083333333334"
            ]
          },
          "metadata": {},
          "execution_count": 25
        }
      ],
      "source": [
        "from sklearn.metrics import accuracy_score\n",
        "\n",
        "accuracy_score(y_test, y_pred)"
      ]
    },
    {
      "cell_type": "code",
      "execution_count": null,
      "metadata": {
        "id": "4D7DV2PVrOwf",
        "colab": {
          "base_uri": "https://localhost:8080/",
          "height": 641
        },
        "outputId": "81a4d84e-03be-4f08-b818-10e816b05a4a"
      },
      "outputs": [
        {
          "output_type": "stream",
          "name": "stderr",
          "text": [
            "/usr/local/lib/python3.7/dist-packages/sklearn/utils/deprecation.py:87: FutureWarning: Function plot_confusion_matrix is deprecated; Function `plot_confusion_matrix` is deprecated in 1.0 and will be removed in 1.2. Use one of the class methods: ConfusionMatrixDisplay.from_predictions or ConfusionMatrixDisplay.from_estimator.\n",
            "  warnings.warn(msg, category=FutureWarning)\n"
          ]
        },
        {
          "output_type": "display_data",
          "data": {
            "text/plain": [
              "<Figure size 720x720 with 2 Axes>"
            ],
            "image/png": "[encoded data removed]"
          },
          "metadata": {
            "needs_background": "light"
          }
        }
      ],
      "source": [
        "import matplotlib.pyplot as plt\n",
        "from sklearn.metrics import plot_confusion_matrix\n",
        "f, ax = plt.subplots(1, figsize=(10,10))\n",
        "plot_confusion_matrix(clf, X_test, y_test,ax=ax)  \n",
        "plt.show()"
      ]
    },
    {
      "cell_type": "code",
      "execution_count": null,
      "metadata": {
        "id": "vKRoTbpTXPK6",
        "colab": {
          "base_uri": "https://localhost:8080/",
          "height": 641
        },
        "outputId": "54035299-6b25-4ba4-e942-4b4bfa81359b"
      },
      "outputs": [
        {
          "output_type": "stream",
          "name": "stderr",
          "text": [
            "/usr/local/lib/python3.7/dist-packages/sklearn/utils/deprecation.py:87: FutureWarning: Function plot_confusion_matrix is deprecated; Function `plot_confusion_matrix` is deprecated in 1.0 and will be removed in 1.2. Use one of the class methods: ConfusionMatrixDisplay.from_predictions or ConfusionMatrixDisplay.from_estimator.\n",
            "  warnings.warn(msg, category=FutureWarning)\n"
          ]
        },
        {
          "output_type": "display_data",
          "data": {
            "text/plain": [
              "<Figure size 720x720 with 2 Axes>"
            ],
            "image/png": "[encoded data removed]"
          },
          "metadata": {
            "needs_background": "light"
          }
        }
      ],
      "source": [
        "_ , ax = plt.subplots(figsize=(10, 10))\n",
        "plot_confusion_matrix(clf2, X_test, y_test, ax=ax)\n",
        "plt.title('Confusion matrix')\n",
        "plt.show()"
      ]
    },
    {
      "cell_type": "markdown",
      "metadata": {
        "id": "nZw9FrvISOPN"
      },
      "source": [
        "# Produto Final "
      ]
    },
    {
      "cell_type": "code",
      "execution_count": null,
      "metadata": {
        "id": "udTDqhSgFaNb"
      },
      "outputs": [],
      "source": [
        "Curriculo_teste = (\"technical expertise cisco asa checkpoint firewall gaia splat palo alto firewalls firewall management tools cisco security management csm checkpoint smart center palo alto panorama f5 load balancer ltm networking hands cisco router cisco switches security management event management rsaenvision ticketing tools bmc remedy service technologies software languages python vb scriptingeducation details january january bachelor engineering information technology mumbai maharashtra mumbai university senior network security analyst senior network security analyst accenture skill details firewalls exprience months cisco exprience months security exprience months firewall exprience months checkpoint exprience monthscompany details company accenture description install configure upgrades troubleshoot cisco asa firewalls x includes single multi context firewalls f5 ltm configuration vip pools ssl offloading certificate renewals code upgrade troubleshoot issues pulse secure juniper management includes creating roles realm polices remote access reverse proxy code upgrade pac file configuration preparing design documents hld lld ip schema configuration network devices per customer requirements data center environment incident management change management problem management itil process key projects worked resiliency project like firewall policy lockdown software code upgrade firewalls load balancers end end co ordination firewall deployment tools cisco security manager x company zensar technologies description install upgrades checkpoint firewalls gaia r75 r77 policy deployment troubleshoot checkpoint firewalls palo alto firewall cisco asa multiple sites belongs us canada emea region configure upgrades troubleshoot cisco routers cisco 29xx 28xx 19xx cisco switches cisco meraki ap meraki cloud f5 ltm configuration troubleshooting operational issues company infosys technologies description responsibilities install configure upgrade troubleshoot checkpoint firewalls cisco routers switches configure monitor troubleshoot issues within organization lan wan customer connectivity networks interface vendors service providers ensuring hardware software problems dealt efficiently effectively minimal downtime company hcl comnet description responsibilities event moitoring administration rsa envision siem proficient researching traffic patterns identify false positives malicious traffic within ids ips scanners qualis firewalls experience writing correlation rules parsers developing uds unsupported device logs analyze large volume security events maintaining high quality analysis change configuration management exposure company wipro technologies description administrator manage troubleshoot multi vendor network infrastructure consisting cisco juniper platforms cisco router cisco stack wise switches 3750e access switch cisco chassis cisco asa firewalls juniper sa ssl vpn provisioning troubleshooting access issues related rsa entrust 2fa user accounts taking network security devices configuration back weekly monthly basis\")"
      ]
    },
    {
      "cell_type": "code",
      "execution_count": null,
      "metadata": {
        "id": "CtKxj2m2FbrR"
      },
      "outputs": [],
      "source": [
        "def classificacaoCarreira(curriculo):\n",
        "  Transformar_vetor = textToVec(curriculo)\n",
        "  y_pred = clf.predict(Transformar_vetor.reshape(1, -1))\n",
        "  print(y_pred)\n",
        "  Transformar_letra = le.inverse_transform(y_pred)\n",
        "  return Transformar_letra "
      ]
    },
    {
      "cell_type": "code",
      "execution_count": null,
      "metadata": {
        "id": "P1jTLZpnFdLr",
        "colab": {
          "base_uri": "https://localhost:8080/"
        },
        "outputId": "c1962c8e-a650-4794-e622-6af9e7b7d4e0"
      },
      "outputs": [
        {
          "output_type": "stream",
          "name": "stdout",
          "text": [
            "[2]\n",
            "['Automation Testing']\n"
          ]
        }
      ],
      "source": [
        "print(classificacaoCarreira(Curriculo_teste))"
      ]
    },
    {
      "cell_type": "code",
      "execution_count": null,
      "metadata": {
        "id": "EQwhU_PpwGEp"
      },
      "outputs": [],
      "source": [
        "def categoria(categoria, numero=2):\n",
        "  return data[data['Category']==categoria][['Category', 'names', 'Resume_clean']].iloc[:numero]"
      ]
    },
    {
      "cell_type": "code",
      "execution_count": null,
      "metadata": {
        "id": "92r1EsKLXsr3",
        "colab": {
          "base_uri": "https://localhost:8080/",
          "height": 143
        },
        "outputId": "115370ea-68ef-4613-d6a5-112cac6d29ac"
      },
      "outputs": [
        {
          "output_type": "execute_result",
          "data": {
            "text/plain": [
              "               Category             names  \\\n",
              "265  Health and fitness  Katherine Butler   \n",
              "266  Health and fitness       Amy Elliott   \n",
              "267  Health and fitness     Matthew Gomez   \n",
              "\n",
              "                                          Resume_clean  \n",
              "265  education details january january first year s...  \n",
              "266  education details january nutrition exercise p...  \n",
              "267  personal skills good verbal written communicat...  "
            ],
            "text/html": [
              "\n",
              "  <div id=\"df-b9f763c5-4d82-4fe7-b55b-dd3cee71bb51\">\n",
              "    <div class=\"colab-df-container\">\n",
              "      <div>\n",
              "<style scoped>\n",
              "    .dataframe tbody tr th:only-of-type {\n",
              "        vertical-align: middle;\n",
              "    }\n",
              "\n",
              "    .dataframe tbody tr th {\n",
              "        vertical-align: top;\n",
              "    }\n",
              "\n",
              "    .dataframe thead th {\n",
              "        text-align: right;\n",
              "    }\n",
              "</style>\n",
              "<table border=\"1\" class=\"dataframe\">\n",
              "  <thead>\n",
              "    <tr style=\"text-align: right;\">\n",
              "      <th></th>\n",
              "      <th>Category</th>\n",
              "      <th>names</th>\n",
              "      <th>Resume_clean</th>\n",
              "    </tr>\n",
              "  </thead>\n",
              "  <tbody>\n",
              "    <tr>\n",
              "      <th>265</th>\n",
              "      <td>Health and fitness</td>\n",
              "      <td>Katherine Butler</td>\n",
              "      <td>education details january january first year s...</td>\n",
              "    </tr>\n",
              "    <tr>\n",
              "      <th>266</th>\n",
              "      <td>Health and fitness</td>\n",
              "      <td>Amy Elliott</td>\n",
              "      <td>education details january nutrition exercise p...</td>\n",
              "    </tr>\n",
              "    <tr>\n",
              "      <th>267</th>\n",
              "      <td>Health and fitness</td>\n",
              "      <td>Matthew Gomez</td>\n",
              "      <td>personal skills good verbal written communicat...</td>\n",
              "    </tr>\n",
              "  </tbody>\n",
              "</table>\n",
              "</div>\n",
              "      <button class=\"colab-df-convert\" onclick=\"convertToInteractive('df-b9f763c5-4d82-4fe7-b55b-dd3cee71bb51')\"\n",
              "              title=\"Convert this dataframe to an interactive table.\"\n",
              "              style=\"display:none;\">\n",
              "        \n",
              "  <svg xmlns=\"http://www.w3.org/2000/svg\" height=\"24px\"viewBox=\"0 0 24 24\"\n",
              "       width=\"24px\">\n",
              "    <path d=\"M0 0h24v24H0V0z\" fill=\"none\"/>\n",
              "    <path d=\"M18.56 5.44l.94 2.06.94-2.06 2.06-.94-2.06-.94-.94-2.06-.94 2.06-2.06.94zm-11 1L8.5 8.5l.94-2.06 2.06-.94-2.06-.94L8.5 2.5l-.94 2.06-2.06.94zm10 10l.94 2.06.94-2.06 2.06-.94-2.06-.94-.94-2.06-.94 2.06-2.06.94z\"/><path d=\"M17.41 7.96l-1.37-1.37c-.4-.4-.92-.59-1.43-.59-.52 0-1.04.2-1.43.59L10.3 9.45l-7.72 7.72c-.78.78-.78 2.05 0 2.83L4 21.41c.39.39.9.59 1.41.59.51 0 1.02-.2 1.41-.59l7.78-7.78 2.81-2.81c.8-.78.8-2.07 0-2.86zM5.41 20L4 18.59l7.72-7.72 1.47 1.35L5.41 20z\"/>\n",
              "  </svg>\n",
              "      </button>\n",
              "      \n",
              "  <style>\n",
              "    .colab-df-container {\n",
              "      display:flex;\n",
              "      flex-wrap:wrap;\n",
              "      gap: 12px;\n",
              "    }\n",
              "\n",
              "    .colab-df-convert {\n",
              "      background-color: #E8F0FE;\n",
              "      border: none;\n",
              "      border-radius: 50%;\n",
              "      cursor: pointer;\n",
              "      display: none;\n",
              "      fill: #1967D2;\n",
              "      height: 32px;\n",
              "      padding: 0 0 0 0;\n",
              "      width: 32px;\n",
              "    }\n",
              "\n",
              "    .colab-df-convert:hover {\n",
              "      background-color: #E2EBFA;\n",
              "      box-shadow: 0px 1px 2px rgba(60, 64, 67, 0.3), 0px 1px 3px 1px rgba(60, 64, 67, 0.15);\n",
              "      fill: #174EA6;\n",
              "    }\n",
              "\n",
              "    [theme=dark] .colab-df-convert {\n",
              "      background-color: #3B4455;\n",
              "      fill: #D2E3FC;\n",
              "    }\n",
              "\n",
              "    [theme=dark] .colab-df-convert:hover {\n",
              "      background-color: #434B5C;\n",
              "      box-shadow: 0px 1px 3px 1px rgba(0, 0, 0, 0.15);\n",
              "      filter: drop-shadow(0px 1px 2px rgba(0, 0, 0, 0.3));\n",
              "      fill: #FFFFFF;\n",
              "    }\n",
              "  </style>\n",
              "\n",
              "      <script>\n",
              "        const buttonEl =\n",
              "          document.querySelector('#df-b9f763c5-4d82-4fe7-b55b-dd3cee71bb51 button.colab-df-convert');\n",
              "        buttonEl.style.display =\n",
              "          google.colab.kernel.accessAllowed ? 'block' : 'none';\n",
              "\n",
              "        async function convertToInteractive(key) {\n",
              "          const element = document.querySelector('#df-b9f763c5-4d82-4fe7-b55b-dd3cee71bb51');\n",
              "          const dataTable =\n",
              "            await google.colab.kernel.invokeFunction('convertToInteractive',\n",
              "                                                     [key], {});\n",
              "          if (!dataTable) return;\n",
              "\n",
              "          const docLinkHtml = 'Like what you see? Visit the ' +\n",
              "            '<a target=\"_blank\" href=https://colab.research.google.com/notebooks/data_table.ipynb>data table notebook</a>'\n",
              "            + ' to learn more about interactive tables.';\n",
              "          element.innerHTML = '';\n",
              "          dataTable['output_type'] = 'display_data';\n",
              "          await google.colab.output.renderOutput(dataTable, element);\n",
              "          const docLink = document.createElement('div');\n",
              "          docLink.innerHTML = docLinkHtml;\n",
              "          element.appendChild(docLink);\n",
              "        }\n",
              "      </script>\n",
              "    </div>\n",
              "  </div>\n",
              "  "
            ]
          },
          "metadata": {},
          "execution_count": 32
        }
      ],
      "source": [
        "categoria('Health and fitness', 3)"
      ]
    },
    {
      "cell_type": "markdown",
      "source": [
        "# API"
      ],
      "metadata": {
        "id": "8odbYKNb_t7y"
      }
    },
    {
      "cell_type": "code",
      "execution_count": null,
      "metadata": {
        "id": "Yxz8fI43l80S",
        "colab": {
          "base_uri": "https://localhost:8080/",
          "height": 165
        },
        "outputId": "3880bb11-bd6b-4a46-e483-d57249348110"
      },
      "outputs": [
        {
          "output_type": "execute_result",
          "data": {
            "text/plain": [
              "'{\"columns\":[\"Category\",\"names\",\"Resume_clean\"],\"index\":[455,456,457,458],\"data\":[[\"Automation Testing\",\"Suzanne Murray\",\"excellent grasping power learning new concepts technology highly motivated team player strong work ethics committed hard work ability work co ordinate team effectively enthusiastic self starter team player quick independent learner education details january bachelor technology information technology branch bput university january diploma engineering brahmapur orissa u c p engineering school software testing automation engineer software testing automation engineer tech mahindra skill details company details company tech mahindra description india duration oct till date project description bt group plc trading bt formerly british telecom british multinational telecommunications holding company head offices london united kingdom worked air logistics program banner british telecom project handles web applications carry whole logistics operation united kingdom various airlines roles responsibilities design develop framework test scenarios test cases developing automation test scripts existing application executing test cases every new release involved running test cases logging defects hpqc tool involved formulating test summary report conduct internal test case peer reviews participated daily scrum meetings participated weekly status meetings team developers discuss open issues communicating onsite team company tech mahindra pvt ltd pune tech mahindra description indian multinational company around employees spread across countries globally total experience years months organization designation duration company tech mahindra description project description inc american multinational conglomerate holding company headquartered whitacre tower downtown dallas texas serving software engineer worked csi cam common service interface team responsible running centralised solution hub web application called myatt com roles responsibilities design develop maintaing automation test scripts test cases using selenium webdriver several desktop window automating tool sikuli autoit executing test cases check working functionality existing application involved tracking manging test life cycle logging defects using jira hpqc alm involved formulating test summary report conduct internal test case peer reviews participated daily scrum meetings participated weekly status meetings team developers discuss open issues communicating onsite team company tech mahindra pvt ltd pune tech mahindra description till date\"],[\"Automation Testing\",\"Lisa Franklin\",\"social skills ability establish trust work team determined good work ethics ability work difficult situations education details january january mumbai maharashtra mumbai university bachelor electronics engineering electronics engineering mumbai maharashtra atharva college engineering malad automation electrical engineer automation electrical engineer smec automation pvt ltd skill details company details company smec automation pvt ltd description supply installation testing commissioning water level sensor valve actuators water tanks barc hospital anushaktinagar trombay barc facility kalyan implemented academy projects like automatically tank filling relay float sensor level control bottle filling conveyor belt motion waste material crashing separated conveyor belt motion plc controlling role automation instrumentation engineer marine industrial automation calibration field instruments like control valve actuators sensors transmitters pneumatic electrical research developing new automated system level flow temperature process control pid various brands nippon selec etc plc panel wiring dol star delta control wiring phase induction motor panel testing ip knowledge control panel quality check assurance eletrical single line daigram sld power wiring daigram internship experience company smec automation pvt ltd description company profile smec automation provides specialized technical consulting services custom engineered products marine energy offshore industries applying advanced methods technologies smec automation one india leading manufacturers automation monitoring equipment ocean going vessels especially marine boiler main engine control igg inert gas generator alarm system project company smec automation pvt ltd description completed internship instrumentation calibrations smec automation pvt ltd months duration 8th june 30th november technical qualification underwent post graduate diploma industrial calibration instrumentation post graduate diploma industrial automation duration months hands practical exposure industrial automation tools like plc pac scada hmi interfacing drives mcc panel vfd successful examination post graduation diploma industrial automation post graduation diploma industrial instrumentation tuv rheinland certified qualification technical skills calculation selection cable switchgear protection expertise plc hardware like ab schneider siemens omron delta abb ge fanuc knowledge control relay logic ladder logic good knowledge designing interfacing plc scada intouch vijeo citect wincc ifix factory talkview real time data acquisition opc kepware hmi interfacing handling vfd motor control schneider electric altivar series calibration pressure gauge temperature gauge control valve level flow measurements control druck injector smart dp transmitter using hart communicator piping instrumentation diagram hand tools tubes pipe fitting cable cable glanding basic knowledge honeywell dcs c programming completed days robotic workshop kuka kr atharva college engineering training weeks rk electricals computer skills electrical designing software basic autocad eplan plc software rockwell twido suite step7 microwin sp2 unity pro xl cx programmer wpl software codesys versa pro designing software wonderware citectscada7 proficy hmi scada ifix factotytalk view successfully completed spoken tutorial program c c java programming individually conducted iit bombay completed days basic course basic mac os atharva college engineering completed phython workshop conducted codestrike day atharva college engineering operating system windows mac\"],[\"Automation Testing\",\"Jacqueline Davis\",\"technical skills automation testing selenium webdriver testng testing framework testng data driven page object model applications tools eclipse postman building tool version control continuous integration maven svn jenkins database sql languages sql java c scripting languages html javascript operating system windows domain insurance erp e commerce education details january b e computer pune maharashtra savitribai phule university pune automation testing java developer automationtesting skill details c exprience months database exprience months eclipse exprience months employee resource group exprience months enterprise resource planning exprience monthscompany details company phioenix microsystem pvt ltd description company phioenix microsystem pvt ltd description organization role phoenix microsystems pvt ltd jr java developer projects project project swb ebs support role java developer description inventory operation system provides way manage inventories conducted day day basis used account owners district offices manage inventory cycles plan events schedule stores people enter employee time sheets approve customer invoicing addition provides several tools assist users completing profitable inventory satisfying needs customers responsibilities environment accounts customers stores cycles planning scheduling rescheduling splits time collection invoicing closing week use bulk updates bulk inserts updates performed based primary java ice faces ibatis jboss seam ejb html project project intelligen mobileapp dev kauapc role java developer description inventory management retailer project develop inventory management system ims accessible android retailers track outstanding inventory cost inventory sales day thus empower retailer better manage business responsibilities cost inventory inventory management system time management machine learning platforms environment java core java jsf rich faces spring restful web service using jersey api project project loan lelo automation role software test engineer description loan le lo offers selected loan multiple banks customer select particular loan offer fill details form get registered email sent registered email id login id password responsibilities development page object model framework automation testing development automation test script using selenium webdriver testng java execution selenium test cases reporting defects debugging executing automation test script using selenium web driver involved functional regression testing worked jenkins continuous integration requirements reviewed test reports prepared summary reports environment selenium web driver java eclipse testng sql project project ddsm automation role software test engineer description objective project automate system zz server zz server data divider team manual system enter customer details user details ddsm system multiple roles role set permissions responsibilities responsible integration testing functional testing system testing creating automation test cases existing pom framework using selenium web driver enhanced test cases using java programming features testng annotations debugging executing automation test script using selenium web driver followed data driven approach reading data excel file worked jenkins continuous integration ci requirements involved regression testing api testing preparation weekly monthly status reports environment selenium web driver java eclipse html testng sql postman\"],[\"Automation Testing\",\"Jordan Smith\",\"skills agile methodology scrum kanban extreme programming xp test driven development tdd feature driven development fdd domain industrial automation retail banking insurance health care automation framework modular data driven bpt hybrid test automation tool hp uft taf load runner selenium rational robot dcmtk sikuli languages vb script c python shell script bug tracking tool bugzilla jira hp quality control ap test clear quest version management clear case win cvs svn database oracle sql server mysql network protocols tcp ip http https vpn ftp ldap healthcare dicom pacs hl7 image archiving image reconstruction rockwell automation logix designer factory talk rslinx classic control flash compare tool modules profiles education details bachelor science computer science mumbai maharashtra mumbai university qa automation lead qa automation lead skill details c exprience months python exprience months uft exprience months selenium exprience months sql exprience monthscompany details company leading industrial automation description responsibilities test rockwell automation embedded systems logix designer factory talk rslinx classic control flash compare tool modules profiles coordinate onsite offshore qa leads design develop test strategy test plan document test plan test cases base product requirement document functional specification discussed explained requirement qa team work scrum base agile methodology test driven development environment frequent changing requirements lots challenges document published program increment objectives program increment planning report feature epics backlog stories conduct participated program increment planning backlog grooming sprint planning daily stand ups sprint review retrospective perform automation testing tasks design create maintain execute peer review test scripts using test automation framework taf develop execute system integration gui integration test using c interact business analysts software developers bug review participated qa meetings work closely development engineering department ensure proper resolution bugs proactively came innovative methods improve software quality test coverage efficiency regression coverage created maintained testing documents high level requirement test strategy report test plan test cases test execution results bug report quality metrics traceability matrix testing summary reports environment logix designer factory talk rslinx classic controlflash comparetool modules profiles test automation framework taf c python selenium clear case clear quest uft collaborative lifecycle management version one company ge healthcare description responsibilities validated ge ct scanners based fda compliances regulations interacted clinical experts business analysts development architect creation test strategy test plan coordinated offshore qa onsite qa team work design develop test strategies requirement traceability matrix designed created executed manual test cases base product requirement documents increased productivity initiating use automation tools like dicom qtp trained guided ge team automation test creation execution using qtp performed testing types functional integration performance regression provide test reports management involved release support test bed creation testing throughout release process environment agile test driven development tdd dicom hl7 image reconstruction windows linux sql c python qtp html xml qtp vbscripts qc company patni ge healthcare pacs description responsibilities validated ge pacs application tested web application defined administration authentication archiving dicom images involved creation automation framework using hybrid bpt approach responsible creation test bed golden data using dcmtk prepared test scenarios test plan test cases automation scripts integration system end end testing applications designed developed user defined generic functions well versed vb scripting descriptive programming scripting dynamic objects reusable actions defining scenario flows uft qtp reviewed qtp scripts developed team members supported qa sit regression testing team environmental issues interact downstream environment system team clarifications environment agile test driven development tdd ge pacs dicom hl7 image reconstruction image construction windows linux sql c python selenium qtp html xml qtp javascript vbscripts qc company hdfc bank limited description responsibilities reviewed business requirements design documents prepared test cases assigned project releases performed testing types api functional integration system performance regression security network provide test reports management involved integration testing release new functionality testing critical bug fixes co ordinate developer fixing critical bugs involved backend database testing oracle microsoft sql involved release support test bed setup testing throughout release process automation test flow using automated tools qtp environment windows linux sql c python qtp html xml qtp javascript vbscripts qc company vistaar systems limited description responsibilities referred business requirements documents use case documents design documents provided client developer creation manual automation test cases involved analysis design creation execution debugging automation scripts using automation tools like rational robot qtp shell scripting testing critical bug fixes co ordinate developer fixing critical bugs involved installation build maintaining test bed smoke sanitary testing regression testing performance testing database testing using rational robot qtp shell scripting environment windows linux sql rational robot v2002 qtp v\"]]}'"
            ],
            "application/vnd.google.colaboratory.intrinsic+json": {
              "type": "string"
            }
          },
          "metadata": {},
          "execution_count": 33
        }
      ],
      "source": [
        "resultado = categoria('Automation Testing', 4)\n",
        "resultado.to_json(orient=\"split\")"
      ]
    },
    {
      "cell_type": "code",
      "execution_count": null,
      "metadata": {
        "id": "56xhjTEyYtsv"
      },
      "outputs": [],
      "source": [
        "import joblib"
      ]
    },
    {
      "cell_type": "code",
      "execution_count": null,
      "metadata": {
        "id": "DZ5rAjUiwncP",
        "colab": {
          "base_uri": "https://localhost:8080/"
        },
        "outputId": "b55f85d8-b64e-434d-e1bd-144b73649bbe"
      },
      "outputs": [
        {
          "output_type": "execute_result",
          "data": {
            "text/plain": [
              "['modelo']"
            ]
          },
          "metadata": {},
          "execution_count": 35
        }
      ],
      "source": [
        "joblib.dump(clf,'modelo')"
      ]
    },
    {
      "cell_type": "code",
      "execution_count": null,
      "metadata": {
        "id": "Gyf62JqvdV86",
        "colab": {
          "base_uri": "https://localhost:8080/"
        },
        "outputId": "810e5e52-0402-44f9-bbac-4e6bc7a33942"
      },
      "outputs": [
        {
          "output_type": "execute_result",
          "data": {
            "text/plain": [
              "['le']"
            ]
          },
          "metadata": {},
          "execution_count": 36
        }
      ],
      "source": [
        "joblib.dump(le,'le')"
      ]
    },
    {
      "cell_type": "markdown",
      "metadata": {
        "id": "bXS-OD5o1iX6"
      },
      "source": [
        "# Curriculos\n"
      ]
    },
    {
      "cell_type": "markdown",
      "metadata": {
        "id": "IwP_cYJ63nTy"
      },
      "source": [
        "education details may may b e uit rgpv data scientist data scientist matelabs skill details python exprience less year months statsmodels exprience months aws exprience less year months machine learning exprience less year months sklearn exprience less year months scipy exprience less year months keras exprience less year monthscompany details company matelabs description ml platform business professionals dummies enthusiasts koramangala 5th block achievements tasks behind sukh sagar bengaluru india developed deployed auto preprocessing steps machine learning mainly missing value treatment outlier detection encoding scaling feature selection dimensionality reduction deployed automated classification regression model linkedin com aditya rathore b4600b146 reasearch deployed time series forecasting model arima sarimax holt winter prophet worked meta feature extracting problem github com rathorology implemented state art research paper outlier detection mixed attributes company matelabs description"
      ]
    },
    {
      "cell_type": "markdown",
      "metadata": {
        "id": "1o109c4d2Fe_"
      },
      "source": [
        "education details august may electronics communication jabalpur madhya pradesh takshshila institute technology java developer skill details java javascript exprience monthscompany details company wab softwere pvt ltd description jr java developer"
      ]
    },
    {
      "cell_type": "markdown",
      "metadata": {
        "id": "tOvJLqZ35PAJ"
      },
      "source": [
        "education details january january first year science mumbai maharashtra st micheal high personal fitness trainer level3 personal trainer skill details company details company golds gym fitness solution flora hotel description certification american college sports science golds gym heart saver reps level responsibilities obtain challenging position commensurate qualification experience field health fitness environment accomplishments good skills used fitness"
      ]
    },
    {
      "cell_type": "markdown",
      "metadata": {
        "id": "mGeZVckpVCjr"
      },
      "source": [
        "core competencies maintain processes ensure project management documentation reports plans relevant accurate complete report automation dashboard preparation sharing feedbacks basis performance project manager forecasting data regarding future risks project changes updating delivery team timely basis good understanding project management lifecycle proven excellence risk management control good understanding software development lifecycle sdlc ability synthesize qualitative quantitative data quickly draw meaningful insights knowledge programme project management methodologies full project reporting governance ability work different cross functional stakeholders establish ensure reliable productive working relationship strong time management organizational skills multitasking skills ability meet deadlines computer skills certification advance knowledge ms office macros skills strategic thinking decision making ability sound analytical skills multi tasking skills fast paced environment leadership inter personal "
      ]
    }
  ],
  "metadata": {
    "colab": {
      "provenance": []
    },
    "kernelspec": {
      "display_name": "Python 3",
      "name": "python3"
    },
    "language_info": {
      "name": "python"
    }
  },
  "nbformat": 4,
  "nbformat_minor": 0
}